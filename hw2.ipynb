{
 "cells": [
  {
   "cell_type": "markdown",
   "metadata": {},
   "source": [
    "# Task 1"
   ]
  },
  {
   "cell_type": "code",
   "execution_count": 1,
   "metadata": {},
   "outputs": [],
   "source": [
    "import pandas as pd\n",
    "import numpy as np\n",
    "from catboost import CatBoostRanker, Pool\n",
    "from sklearn.model_selection import GroupKFold, StratifiedKFold, train_test_split\n",
    "from sklearn.metrics import roc_auc_score\n",
    "import matplotlib.pyplot as plt\n",
    "from tqdm import tqdm\n",
    "from collections import defaultdict\n",
    "from gensim.models import Word2Vec\n",
    "import shap"
   ]
  },
  {
   "cell_type": "markdown",
   "metadata": {},
   "source": [
    "## Process data"
   ]
  },
  {
   "cell_type": "markdown",
   "metadata": {},
   "source": [
    "### Process members"
   ]
  },
  {
   "cell_type": "code",
   "execution_count": 3,
   "metadata": {},
   "outputs": [
    {
     "data": {
      "text/html": [
       "<div>\n",
       "<style scoped>\n",
       "    .dataframe tbody tr th:only-of-type {\n",
       "        vertical-align: middle;\n",
       "    }\n",
       "\n",
       "    .dataframe tbody tr th {\n",
       "        vertical-align: top;\n",
       "    }\n",
       "\n",
       "    .dataframe thead th {\n",
       "        text-align: right;\n",
       "    }\n",
       "</style>\n",
       "<table border=\"1\" class=\"dataframe\">\n",
       "  <thead>\n",
       "    <tr style=\"text-align: right;\">\n",
       "      <th></th>\n",
       "      <th>msno</th>\n",
       "      <th>city</th>\n",
       "      <th>bd</th>\n",
       "      <th>gender</th>\n",
       "      <th>registered_via</th>\n",
       "      <th>registration_init_time</th>\n",
       "      <th>expiration_date</th>\n",
       "    </tr>\n",
       "  </thead>\n",
       "  <tbody>\n",
       "    <tr>\n",
       "      <th>0</th>\n",
       "      <td>XQxgAYj3klVKjR3oxPPXYYFp4soD4TuBghkhMTD4oTw=</td>\n",
       "      <td>1</td>\n",
       "      <td>UNK</td>\n",
       "      <td>UNK</td>\n",
       "      <td>7</td>\n",
       "      <td>201108</td>\n",
       "      <td>201709</td>\n",
       "    </tr>\n",
       "    <tr>\n",
       "      <th>1</th>\n",
       "      <td>UizsfmJb9mV54qE9hCYyU07Va97c0lCRLEQX3ae+ztM=</td>\n",
       "      <td>1</td>\n",
       "      <td>UNK</td>\n",
       "      <td>UNK</td>\n",
       "      <td>7</td>\n",
       "      <td>201506</td>\n",
       "      <td>201706</td>\n",
       "    </tr>\n",
       "    <tr>\n",
       "      <th>2</th>\n",
       "      <td>D8nEhsIOBSoE6VthTaqDX8U6lqjJ7dLdr72mOyLya2A=</td>\n",
       "      <td>1</td>\n",
       "      <td>UNK</td>\n",
       "      <td>UNK</td>\n",
       "      <td>4</td>\n",
       "      <td>201604</td>\n",
       "      <td>201707</td>\n",
       "    </tr>\n",
       "    <tr>\n",
       "      <th>3</th>\n",
       "      <td>mCuD+tZ1hERA/o5GPqk38e041J8ZsBaLcu7nGoIIvhI=</td>\n",
       "      <td>1</td>\n",
       "      <td>UNK</td>\n",
       "      <td>UNK</td>\n",
       "      <td>9</td>\n",
       "      <td>201509</td>\n",
       "      <td>201509</td>\n",
       "    </tr>\n",
       "    <tr>\n",
       "      <th>4</th>\n",
       "      <td>q4HRBfVSssAFS9iRfxWrohxuk9kCYMKjHOEagUMV6rQ=</td>\n",
       "      <td>1</td>\n",
       "      <td>UNK</td>\n",
       "      <td>UNK</td>\n",
       "      <td>4</td>\n",
       "      <td>201701</td>\n",
       "      <td>201706</td>\n",
       "    </tr>\n",
       "    <tr>\n",
       "      <th>...</th>\n",
       "      <td>...</td>\n",
       "      <td>...</td>\n",
       "      <td>...</td>\n",
       "      <td>...</td>\n",
       "      <td>...</td>\n",
       "      <td>...</td>\n",
       "      <td>...</td>\n",
       "    </tr>\n",
       "    <tr>\n",
       "      <th>34398</th>\n",
       "      <td>Wwd/cudKVuLJ3txRVxlg2Zaeliu+LRUfiBmfrnxhRCY=</td>\n",
       "      <td>1</td>\n",
       "      <td>UNK</td>\n",
       "      <td>UNK</td>\n",
       "      <td>7</td>\n",
       "      <td>201311</td>\n",
       "      <td>201709</td>\n",
       "    </tr>\n",
       "    <tr>\n",
       "      <th>34399</th>\n",
       "      <td>g3JGnJX6Hg50lFbrNWfsHwCUmApIkiv2M8sXOaeXoIQ=</td>\n",
       "      <td>4</td>\n",
       "      <td>1</td>\n",
       "      <td>male</td>\n",
       "      <td>3</td>\n",
       "      <td>201410</td>\n",
       "      <td>201705</td>\n",
       "    </tr>\n",
       "    <tr>\n",
       "      <th>34400</th>\n",
       "      <td>IMaPMJuyN+ip9Vqi+z2XuXbFAP2kbHr+EvvCNkFfj+o=</td>\n",
       "      <td>1</td>\n",
       "      <td>UNK</td>\n",
       "      <td>UNK</td>\n",
       "      <td>7</td>\n",
       "      <td>201308</td>\n",
       "      <td>201709</td>\n",
       "    </tr>\n",
       "    <tr>\n",
       "      <th>34401</th>\n",
       "      <td>WAnCAJjUty9Stv8yKtV7ZC7PN+ilOy5FX3aIJgGPANM=</td>\n",
       "      <td>1</td>\n",
       "      <td>UNK</td>\n",
       "      <td>UNK</td>\n",
       "      <td>7</td>\n",
       "      <td>201510</td>\n",
       "      <td>201709</td>\n",
       "    </tr>\n",
       "    <tr>\n",
       "      <th>34402</th>\n",
       "      <td>xH8KpzKGeNNq6dOvy51c/8VzqOiGG+m6vabhsPSDHX4=</td>\n",
       "      <td>1</td>\n",
       "      <td>UNK</td>\n",
       "      <td>UNK</td>\n",
       "      <td>4</td>\n",
       "      <td>201608</td>\n",
       "      <td>201608</td>\n",
       "    </tr>\n",
       "  </tbody>\n",
       "</table>\n",
       "<p>34403 rows × 7 columns</p>\n",
       "</div>"
      ],
      "text/plain": [
       "                                               msno city   bd gender  \\\n",
       "0      XQxgAYj3klVKjR3oxPPXYYFp4soD4TuBghkhMTD4oTw=    1  UNK    UNK   \n",
       "1      UizsfmJb9mV54qE9hCYyU07Va97c0lCRLEQX3ae+ztM=    1  UNK    UNK   \n",
       "2      D8nEhsIOBSoE6VthTaqDX8U6lqjJ7dLdr72mOyLya2A=    1  UNK    UNK   \n",
       "3      mCuD+tZ1hERA/o5GPqk38e041J8ZsBaLcu7nGoIIvhI=    1  UNK    UNK   \n",
       "4      q4HRBfVSssAFS9iRfxWrohxuk9kCYMKjHOEagUMV6rQ=    1  UNK    UNK   \n",
       "...                                             ...  ...  ...    ...   \n",
       "34398  Wwd/cudKVuLJ3txRVxlg2Zaeliu+LRUfiBmfrnxhRCY=    1  UNK    UNK   \n",
       "34399  g3JGnJX6Hg50lFbrNWfsHwCUmApIkiv2M8sXOaeXoIQ=    4    1   male   \n",
       "34400  IMaPMJuyN+ip9Vqi+z2XuXbFAP2kbHr+EvvCNkFfj+o=    1  UNK    UNK   \n",
       "34401  WAnCAJjUty9Stv8yKtV7ZC7PN+ilOy5FX3aIJgGPANM=    1  UNK    UNK   \n",
       "34402  xH8KpzKGeNNq6dOvy51c/8VzqOiGG+m6vabhsPSDHX4=    1  UNK    UNK   \n",
       "\n",
       "      registered_via registration_init_time expiration_date  \n",
       "0                  7                 201108          201709  \n",
       "1                  7                 201506          201706  \n",
       "2                  4                 201604          201707  \n",
       "3                  9                 201509          201509  \n",
       "4                  4                 201701          201706  \n",
       "...              ...                    ...             ...  \n",
       "34398              7                 201311          201709  \n",
       "34399              3                 201410          201705  \n",
       "34400              7                 201308          201709  \n",
       "34401              7                 201510          201709  \n",
       "34402              4                 201608          201608  \n",
       "\n",
       "[34403 rows x 7 columns]"
      ]
     },
     "execution_count": 3,
     "metadata": {},
     "output_type": "execute_result"
    }
   ],
   "source": [
    "members_df = pd.read_csv(\"members.csv\", dtype={\n",
    "        \"msno\": \"category\",\n",
    "        \"city\": \"category\",\n",
    "        \"gender\": \"category\",\n",
    "        \"registered_via\": \"category\",\n",
    "    })\n",
    "\n",
    "def age_categories(row):\n",
    "    if row == 0:\n",
    "        row = 'UNK'\n",
    "    else:\n",
    "        row = row // 10\n",
    "    return row\n",
    "\n",
    "members_df.bd = members_df.bd.apply(age_categories).astype('category')\n",
    "members_df.gender = members_df.gender.cat.add_categories('UNK').fillna('UNK')\n",
    "members_df.registration_init_time = (members_df.registration_init_time // 100).astype('category')\n",
    "members_df.expiration_date = (members_df.expiration_date // 100).astype('category')\n",
    "\n",
    "members_df"
   ]
  },
  {
   "cell_type": "markdown",
   "metadata": {},
   "source": [
    "### Process songs"
   ]
  },
  {
   "cell_type": "code",
   "execution_count": 4,
   "metadata": {},
   "outputs": [],
   "source": [
    "songs_df = pd.read_csv(\"songs.csv\", dtype={\n",
    "        \"song_id\": \"category\",\n",
    "        \"genre_ids\": \"category\",\n",
    "        \"artist_name\": \"category\",\n",
    "        \"composer\": \"category\",\n",
    "        \"lyricist\": \"category\",\n",
    "        \"language\": \"category\"\n",
    "    })\n",
    "\n",
    "song_extra_info_df = pd.read_csv(\"song_extra_info.csv\", dtype={\n",
    "        \"song_id\": \"category\",\n",
    "        \"name\": 'string',\n",
    "        \"isrc\": \"string\"\n",
    "    })\n",
    "    \n",
    "songs_df = pd.merge(songs_df, song_extra_info_df, 'left')\n",
    "\n",
    "songs_names = pd.DataFrame({\n",
    "    'song_id': songs_df['song_id'], \n",
    "    'artist': songs_df['artist_name'],\n",
    "    'name': songs_df['name'],\n",
    "})\n",
    "\n",
    "songs_df = songs_df.drop(columns=['composer', 'lyricist', 'name'])\n",
    "\n",
    "for column in ['genre_ids', 'artist_name', 'language']:\n",
    "    songs_df[column] = songs_df[column].cat.add_categories('UNK').fillna('UNK')\n",
    "    \n",
    "songs_df.isrc = songs_df.isrc.fillna('UNK')\n",
    "\n",
    "def country(row):\n",
    "    if row == 'UNK':\n",
    "        return row\n",
    "    else:\n",
    "        return row[:2]\n",
    "\n",
    "def year(row):\n",
    "    if row == 'UNK':\n",
    "        return row\n",
    "    else:\n",
    "        return row[5:7]\n",
    "\n",
    "songs_df['country'] = songs_df.isrc.apply(country).astype('category')\n",
    "songs_df['year'] = songs_df.isrc.apply(year).astype('category')\n",
    "songs_df = songs_df.drop(columns=['isrc'])"
   ]
  },
  {
   "cell_type": "code",
   "execution_count": 5,
   "metadata": {},
   "outputs": [
    {
     "data": {
      "text/html": [
       "<div>\n",
       "<style scoped>\n",
       "    .dataframe tbody tr th:only-of-type {\n",
       "        vertical-align: middle;\n",
       "    }\n",
       "\n",
       "    .dataframe tbody tr th {\n",
       "        vertical-align: top;\n",
       "    }\n",
       "\n",
       "    .dataframe thead th {\n",
       "        text-align: right;\n",
       "    }\n",
       "</style>\n",
       "<table border=\"1\" class=\"dataframe\">\n",
       "  <thead>\n",
       "    <tr style=\"text-align: right;\">\n",
       "      <th></th>\n",
       "      <th>song_id</th>\n",
       "      <th>song_length</th>\n",
       "      <th>genre_ids</th>\n",
       "      <th>artist_name</th>\n",
       "      <th>language</th>\n",
       "      <th>country</th>\n",
       "      <th>year</th>\n",
       "    </tr>\n",
       "  </thead>\n",
       "  <tbody>\n",
       "    <tr>\n",
       "      <th>0</th>\n",
       "      <td>CXoTN1eb7AI+DntdU1vbcwGRV4SCIDxZu+YD8JP8r4E=</td>\n",
       "      <td>247640</td>\n",
       "      <td>465</td>\n",
       "      <td>張信哲 (Jeff Chang)</td>\n",
       "      <td>3.0</td>\n",
       "      <td>TW</td>\n",
       "      <td>14</td>\n",
       "    </tr>\n",
       "    <tr>\n",
       "      <th>1</th>\n",
       "      <td>o0kFgae9QtnYgRkVPqLJwa05zIhRlUjfF7O1tDw0ZDU=</td>\n",
       "      <td>197328</td>\n",
       "      <td>444</td>\n",
       "      <td>BLACKPINK</td>\n",
       "      <td>31.0</td>\n",
       "      <td>UNK</td>\n",
       "      <td>UNK</td>\n",
       "    </tr>\n",
       "    <tr>\n",
       "      <th>2</th>\n",
       "      <td>DwVvVurfpuz+XPuFvucclVQEyPqcpUkHR0ne1RQzPs0=</td>\n",
       "      <td>231781</td>\n",
       "      <td>465</td>\n",
       "      <td>SUPER JUNIOR</td>\n",
       "      <td>31.0</td>\n",
       "      <td>UNK</td>\n",
       "      <td>UNK</td>\n",
       "    </tr>\n",
       "    <tr>\n",
       "      <th>3</th>\n",
       "      <td>dKMBWoZyScdxSkihKG+Vf47nc18N9q4m58+b4e7dSSE=</td>\n",
       "      <td>273554</td>\n",
       "      <td>465</td>\n",
       "      <td>S.H.E</td>\n",
       "      <td>3.0</td>\n",
       "      <td>TW</td>\n",
       "      <td>02</td>\n",
       "    </tr>\n",
       "    <tr>\n",
       "      <th>4</th>\n",
       "      <td>W3bqWd3T+VeHFzHAUfARgW9AvVRaF4N5Yzm4Mr6Eo/o=</td>\n",
       "      <td>140329</td>\n",
       "      <td>726</td>\n",
       "      <td>貴族精選</td>\n",
       "      <td>52.0</td>\n",
       "      <td>UNK</td>\n",
       "      <td>UNK</td>\n",
       "    </tr>\n",
       "    <tr>\n",
       "      <th>...</th>\n",
       "      <td>...</td>\n",
       "      <td>...</td>\n",
       "      <td>...</td>\n",
       "      <td>...</td>\n",
       "      <td>...</td>\n",
       "      <td>...</td>\n",
       "      <td>...</td>\n",
       "    </tr>\n",
       "    <tr>\n",
       "      <th>2296315</th>\n",
       "      <td>lg6rn7eV/ZNg0+P+x77kHUL7GDMfoL4eMtXxncseLNA=</td>\n",
       "      <td>20192</td>\n",
       "      <td>958</td>\n",
       "      <td>Catherine Collard</td>\n",
       "      <td>-1.0</td>\n",
       "      <td>FR</td>\n",
       "      <td>78</td>\n",
       "    </tr>\n",
       "    <tr>\n",
       "      <th>2296316</th>\n",
       "      <td>nXi1lrSJe+gLoTTNky7If0mNPrIyCQCLwagwR6XopGU=</td>\n",
       "      <td>273391</td>\n",
       "      <td>465</td>\n",
       "      <td>紀文惠 (Justine Chi)</td>\n",
       "      <td>3.0</td>\n",
       "      <td>TW</td>\n",
       "      <td>11</td>\n",
       "    </tr>\n",
       "    <tr>\n",
       "      <th>2296317</th>\n",
       "      <td>9KxSvIjbJyJzfEVWnkMbgR6dyn6d54ot0N5FKyKqii8=</td>\n",
       "      <td>445172</td>\n",
       "      <td>1609</td>\n",
       "      <td>Various Artists</td>\n",
       "      <td>52.0</td>\n",
       "      <td>DE</td>\n",
       "      <td>15</td>\n",
       "    </tr>\n",
       "    <tr>\n",
       "      <th>2296318</th>\n",
       "      <td>UO8Y2MR2sjOn2q/Tp8/lzZTGKmLEvwZ20oWanG4XnYc=</td>\n",
       "      <td>172669</td>\n",
       "      <td>465</td>\n",
       "      <td>Peter Paul &amp; Mary</td>\n",
       "      <td>52.0</td>\n",
       "      <td>US</td>\n",
       "      <td>99</td>\n",
       "    </tr>\n",
       "    <tr>\n",
       "      <th>2296319</th>\n",
       "      <td>V/9qPSUOGT0FeIGBhDIZRRz5Y5yyjdXC2Z/+bJExo5s=</td>\n",
       "      <td>270466</td>\n",
       "      <td>829</td>\n",
       "      <td>Kim Robertson</td>\n",
       "      <td>52.0</td>\n",
       "      <td>US</td>\n",
       "      <td>09</td>\n",
       "    </tr>\n",
       "  </tbody>\n",
       "</table>\n",
       "<p>2296320 rows × 7 columns</p>\n",
       "</div>"
      ],
      "text/plain": [
       "                                              song_id  song_length genre_ids  \\\n",
       "0        CXoTN1eb7AI+DntdU1vbcwGRV4SCIDxZu+YD8JP8r4E=       247640       465   \n",
       "1        o0kFgae9QtnYgRkVPqLJwa05zIhRlUjfF7O1tDw0ZDU=       197328       444   \n",
       "2        DwVvVurfpuz+XPuFvucclVQEyPqcpUkHR0ne1RQzPs0=       231781       465   \n",
       "3        dKMBWoZyScdxSkihKG+Vf47nc18N9q4m58+b4e7dSSE=       273554       465   \n",
       "4        W3bqWd3T+VeHFzHAUfARgW9AvVRaF4N5Yzm4Mr6Eo/o=       140329       726   \n",
       "...                                               ...          ...       ...   \n",
       "2296315  lg6rn7eV/ZNg0+P+x77kHUL7GDMfoL4eMtXxncseLNA=        20192       958   \n",
       "2296316  nXi1lrSJe+gLoTTNky7If0mNPrIyCQCLwagwR6XopGU=       273391       465   \n",
       "2296317  9KxSvIjbJyJzfEVWnkMbgR6dyn6d54ot0N5FKyKqii8=       445172      1609   \n",
       "2296318  UO8Y2MR2sjOn2q/Tp8/lzZTGKmLEvwZ20oWanG4XnYc=       172669       465   \n",
       "2296319  V/9qPSUOGT0FeIGBhDIZRRz5Y5yyjdXC2Z/+bJExo5s=       270466       829   \n",
       "\n",
       "               artist_name language country year  \n",
       "0         張信哲 (Jeff Chang)      3.0      TW   14  \n",
       "1                BLACKPINK     31.0     UNK  UNK  \n",
       "2             SUPER JUNIOR     31.0     UNK  UNK  \n",
       "3                    S.H.E      3.0      TW   02  \n",
       "4                     貴族精選     52.0     UNK  UNK  \n",
       "...                    ...      ...     ...  ...  \n",
       "2296315  Catherine Collard     -1.0      FR   78  \n",
       "2296316  紀文惠 (Justine Chi)      3.0      TW   11  \n",
       "2296317    Various Artists     52.0      DE   15  \n",
       "2296318  Peter Paul & Mary     52.0      US   99  \n",
       "2296319      Kim Robertson     52.0      US   09  \n",
       "\n",
       "[2296320 rows x 7 columns]"
      ]
     },
     "execution_count": 5,
     "metadata": {},
     "output_type": "execute_result"
    }
   ],
   "source": [
    "songs_df"
   ]
  },
  {
   "cell_type": "markdown",
   "metadata": {},
   "source": [
    "### Process train"
   ]
  },
  {
   "cell_type": "code",
   "execution_count": 6,
   "metadata": {},
   "outputs": [],
   "source": [
    "data = pd.read_csv(\"train.csv\", dtype={\n",
    "        \"msno\": \"category\",\n",
    "        \"song_id\": \"category\",\n",
    "        \"source_system_tab\": \"category\",\n",
    "        \"source_screen_name\": \"category\",\n",
    "        \"source_type\": \"category\"\n",
    "    })\n",
    "\n",
    "# for msno in tqdm(train_df.msno.unique()):\n",
    "#     if train_df[train_df.msno == msno].shape[0] < 10:\n",
    "#         train_df = train_df[train_df.msno != msno]\n",
    "\n",
    "# for song_id in tqdm(train_df.song_id.unique()):\n",
    "#     if train_df[train_df.song_id == song_id].shape[0] < 10:\n",
    "#         train_df = train_df[train_df.song_id != song_id]\n",
    "\n",
    "for column in ['source_system_tab', 'source_screen_name', 'source_type']:\n",
    "    data[column] = data[column].cat.add_categories('UNK').fillna('UNK')\n",
    "    \n",
    "data = data.merge(members_df, on='msno', how='left').merge(songs_df, on='song_id', how='left').astype({\"msno\": \"category\", \"song_id\": \"category\"})\n",
    "data = data[~data.isna().any(1)]"
   ]
  },
  {
   "cell_type": "code",
   "execution_count": 7,
   "metadata": {},
   "outputs": [
    {
     "data": {
      "text/html": [
       "<div>\n",
       "<style scoped>\n",
       "    .dataframe tbody tr th:only-of-type {\n",
       "        vertical-align: middle;\n",
       "    }\n",
       "\n",
       "    .dataframe tbody tr th {\n",
       "        vertical-align: top;\n",
       "    }\n",
       "\n",
       "    .dataframe thead th {\n",
       "        text-align: right;\n",
       "    }\n",
       "</style>\n",
       "<table border=\"1\" class=\"dataframe\">\n",
       "  <thead>\n",
       "    <tr style=\"text-align: right;\">\n",
       "      <th></th>\n",
       "      <th>msno</th>\n",
       "      <th>song_id</th>\n",
       "      <th>source_system_tab</th>\n",
       "      <th>source_screen_name</th>\n",
       "      <th>source_type</th>\n",
       "      <th>target</th>\n",
       "      <th>city</th>\n",
       "      <th>bd</th>\n",
       "      <th>gender</th>\n",
       "      <th>registered_via</th>\n",
       "      <th>registration_init_time</th>\n",
       "      <th>expiration_date</th>\n",
       "      <th>song_length</th>\n",
       "      <th>genre_ids</th>\n",
       "      <th>artist_name</th>\n",
       "      <th>language</th>\n",
       "      <th>country</th>\n",
       "      <th>year</th>\n",
       "    </tr>\n",
       "  </thead>\n",
       "  <tbody>\n",
       "    <tr>\n",
       "      <th>0</th>\n",
       "      <td>FGtllVqz18RPiwJj/edr2gV78zirAiY/9SmYvia+kCg=</td>\n",
       "      <td>BBzumQNXUHKdEBOB7mAJuzok+IJA1c2Ryg/yzTF6tik=</td>\n",
       "      <td>explore</td>\n",
       "      <td>Explore</td>\n",
       "      <td>online-playlist</td>\n",
       "      <td>1</td>\n",
       "      <td>1</td>\n",
       "      <td>UNK</td>\n",
       "      <td>UNK</td>\n",
       "      <td>7</td>\n",
       "      <td>201201</td>\n",
       "      <td>201710</td>\n",
       "      <td>206471.0</td>\n",
       "      <td>359</td>\n",
       "      <td>Bastille</td>\n",
       "      <td>52.0</td>\n",
       "      <td>GB</td>\n",
       "      <td>16</td>\n",
       "    </tr>\n",
       "    <tr>\n",
       "      <th>1</th>\n",
       "      <td>Xumu+NIjS6QYVxDS4/t3SawvJ7viT9hPKXmf0RtLNx8=</td>\n",
       "      <td>bhp/MpSNoqoxOIB+/l8WPqu6jldth4DIpCm3ayXnJqM=</td>\n",
       "      <td>my library</td>\n",
       "      <td>Local playlist more</td>\n",
       "      <td>local-playlist</td>\n",
       "      <td>1</td>\n",
       "      <td>13</td>\n",
       "      <td>2</td>\n",
       "      <td>female</td>\n",
       "      <td>9</td>\n",
       "      <td>201105</td>\n",
       "      <td>201709</td>\n",
       "      <td>284584.0</td>\n",
       "      <td>1259</td>\n",
       "      <td>Various Artists</td>\n",
       "      <td>52.0</td>\n",
       "      <td>US</td>\n",
       "      <td>99</td>\n",
       "    </tr>\n",
       "    <tr>\n",
       "      <th>2</th>\n",
       "      <td>Xumu+NIjS6QYVxDS4/t3SawvJ7viT9hPKXmf0RtLNx8=</td>\n",
       "      <td>JNWfrrC7zNN7BdMpsISKa4Mw+xVJYNnxXh3/Epw7QgY=</td>\n",
       "      <td>my library</td>\n",
       "      <td>Local playlist more</td>\n",
       "      <td>local-playlist</td>\n",
       "      <td>1</td>\n",
       "      <td>13</td>\n",
       "      <td>2</td>\n",
       "      <td>female</td>\n",
       "      <td>9</td>\n",
       "      <td>201105</td>\n",
       "      <td>201709</td>\n",
       "      <td>225396.0</td>\n",
       "      <td>1259</td>\n",
       "      <td>Nas</td>\n",
       "      <td>52.0</td>\n",
       "      <td>US</td>\n",
       "      <td>06</td>\n",
       "    </tr>\n",
       "    <tr>\n",
       "      <th>3</th>\n",
       "      <td>Xumu+NIjS6QYVxDS4/t3SawvJ7viT9hPKXmf0RtLNx8=</td>\n",
       "      <td>2A87tzfnJTSWqD7gIZHisolhe4DMdzkbd6LzO1KHjNs=</td>\n",
       "      <td>my library</td>\n",
       "      <td>Local playlist more</td>\n",
       "      <td>local-playlist</td>\n",
       "      <td>1</td>\n",
       "      <td>13</td>\n",
       "      <td>2</td>\n",
       "      <td>female</td>\n",
       "      <td>9</td>\n",
       "      <td>201105</td>\n",
       "      <td>201709</td>\n",
       "      <td>255512.0</td>\n",
       "      <td>1019</td>\n",
       "      <td>Soundway</td>\n",
       "      <td>-1.0</td>\n",
       "      <td>GB</td>\n",
       "      <td>10</td>\n",
       "    </tr>\n",
       "    <tr>\n",
       "      <th>4</th>\n",
       "      <td>FGtllVqz18RPiwJj/edr2gV78zirAiY/9SmYvia+kCg=</td>\n",
       "      <td>3qm6XTZ6MOCU11x8FIVbAGH5l5uMkT3/ZalWG1oo2Gc=</td>\n",
       "      <td>explore</td>\n",
       "      <td>Explore</td>\n",
       "      <td>online-playlist</td>\n",
       "      <td>1</td>\n",
       "      <td>1</td>\n",
       "      <td>UNK</td>\n",
       "      <td>UNK</td>\n",
       "      <td>7</td>\n",
       "      <td>201201</td>\n",
       "      <td>201710</td>\n",
       "      <td>187802.0</td>\n",
       "      <td>1011</td>\n",
       "      <td>Brett Young</td>\n",
       "      <td>52.0</td>\n",
       "      <td>QM</td>\n",
       "      <td>16</td>\n",
       "    </tr>\n",
       "    <tr>\n",
       "      <th>...</th>\n",
       "      <td>...</td>\n",
       "      <td>...</td>\n",
       "      <td>...</td>\n",
       "      <td>...</td>\n",
       "      <td>...</td>\n",
       "      <td>...</td>\n",
       "      <td>...</td>\n",
       "      <td>...</td>\n",
       "      <td>...</td>\n",
       "      <td>...</td>\n",
       "      <td>...</td>\n",
       "      <td>...</td>\n",
       "      <td>...</td>\n",
       "      <td>...</td>\n",
       "      <td>...</td>\n",
       "      <td>...</td>\n",
       "      <td>...</td>\n",
       "      <td>...</td>\n",
       "    </tr>\n",
       "    <tr>\n",
       "      <th>7377413</th>\n",
       "      <td>6xdFzPlrasIDD95mQWXVC3Bg4ptnGYtBl4ztVEZMddU=</td>\n",
       "      <td>VJTxizih/o28kXCbtPbIyWXScoXGvxyYtl6R+0YB5JM=</td>\n",
       "      <td>my library</td>\n",
       "      <td>Local playlist more</td>\n",
       "      <td>local-playlist</td>\n",
       "      <td>1</td>\n",
       "      <td>4</td>\n",
       "      <td>2</td>\n",
       "      <td>female</td>\n",
       "      <td>9</td>\n",
       "      <td>200412</td>\n",
       "      <td>201709</td>\n",
       "      <td>267958.0</td>\n",
       "      <td>1259</td>\n",
       "      <td>Dr. Dre</td>\n",
       "      <td>52.0</td>\n",
       "      <td>US</td>\n",
       "      <td>99</td>\n",
       "    </tr>\n",
       "    <tr>\n",
       "      <th>7377414</th>\n",
       "      <td>ZxbVmt3Kh/XOH+h58c2Kdj6SjFZk+wnUO006IgWzMQE=</td>\n",
       "      <td>z1mqaU9YOX7T/PFDvUoWozdFq7rC3KwaQP7nFVprjMI=</td>\n",
       "      <td>search</td>\n",
       "      <td>Search</td>\n",
       "      <td>song</td>\n",
       "      <td>0</td>\n",
       "      <td>1</td>\n",
       "      <td>UNK</td>\n",
       "      <td>UNK</td>\n",
       "      <td>7</td>\n",
       "      <td>201306</td>\n",
       "      <td>201710</td>\n",
       "      <td>227404.0</td>\n",
       "      <td>465</td>\n",
       "      <td>R. City feat.  Adam Levine</td>\n",
       "      <td>52.0</td>\n",
       "      <td>US</td>\n",
       "      <td>15</td>\n",
       "    </tr>\n",
       "    <tr>\n",
       "      <th>7377415</th>\n",
       "      <td>ZxbVmt3Kh/XOH+h58c2Kdj6SjFZk+wnUO006IgWzMQE=</td>\n",
       "      <td>750RprmFfLV0bymtDH88g24pLZGVi5VpBAI300P6UOA=</td>\n",
       "      <td>search</td>\n",
       "      <td>Search</td>\n",
       "      <td>song</td>\n",
       "      <td>1</td>\n",
       "      <td>1</td>\n",
       "      <td>UNK</td>\n",
       "      <td>UNK</td>\n",
       "      <td>7</td>\n",
       "      <td>201306</td>\n",
       "      <td>201710</td>\n",
       "      <td>258298.0</td>\n",
       "      <td>465</td>\n",
       "      <td>兄弟本色G.U.T.S. (姚中仁、張震嶽、頑童MJ116)</td>\n",
       "      <td>3.0</td>\n",
       "      <td>TW</td>\n",
       "      <td>15</td>\n",
       "    </tr>\n",
       "    <tr>\n",
       "      <th>7377416</th>\n",
       "      <td>0aH4Hd3ziPSRHClRX8rkeOEaAG5EPPkW1mKGCdXEok0=</td>\n",
       "      <td>G8wgqObgeAMER/rVCIlgcNeQ8mm0CzF/GsxiMK8TTnA=</td>\n",
       "      <td>discover</td>\n",
       "      <td>Discover Genre</td>\n",
       "      <td>online-playlist</td>\n",
       "      <td>1</td>\n",
       "      <td>5</td>\n",
       "      <td>UNK</td>\n",
       "      <td>UNK</td>\n",
       "      <td>9</td>\n",
       "      <td>201502</td>\n",
       "      <td>201709</td>\n",
       "      <td>524146.0</td>\n",
       "      <td>2122</td>\n",
       "      <td>Brad Mehldau Trio</td>\n",
       "      <td>52.0</td>\n",
       "      <td>US</td>\n",
       "      <td>07</td>\n",
       "    </tr>\n",
       "    <tr>\n",
       "      <th>7377417</th>\n",
       "      <td>0aH4Hd3ziPSRHClRX8rkeOEaAG5EPPkW1mKGCdXEok0=</td>\n",
       "      <td>Ju0VGkjWeBUZCd7r5Az2hUImhMoWxWLUicOedsmvG0g=</td>\n",
       "      <td>discover</td>\n",
       "      <td>Discover Genre</td>\n",
       "      <td>online-playlist</td>\n",
       "      <td>1</td>\n",
       "      <td>5</td>\n",
       "      <td>UNK</td>\n",
       "      <td>UNK</td>\n",
       "      <td>9</td>\n",
       "      <td>201502</td>\n",
       "      <td>201709</td>\n",
       "      <td>254026.0</td>\n",
       "      <td>212</td>\n",
       "      <td>Biréli Lagrène| Sylvain Luc</td>\n",
       "      <td>52.0</td>\n",
       "      <td>FR</td>\n",
       "      <td>99</td>\n",
       "    </tr>\n",
       "  </tbody>\n",
       "</table>\n",
       "<p>7377304 rows × 18 columns</p>\n",
       "</div>"
      ],
      "text/plain": [
       "                                                 msno  \\\n",
       "0        FGtllVqz18RPiwJj/edr2gV78zirAiY/9SmYvia+kCg=   \n",
       "1        Xumu+NIjS6QYVxDS4/t3SawvJ7viT9hPKXmf0RtLNx8=   \n",
       "2        Xumu+NIjS6QYVxDS4/t3SawvJ7viT9hPKXmf0RtLNx8=   \n",
       "3        Xumu+NIjS6QYVxDS4/t3SawvJ7viT9hPKXmf0RtLNx8=   \n",
       "4        FGtllVqz18RPiwJj/edr2gV78zirAiY/9SmYvia+kCg=   \n",
       "...                                               ...   \n",
       "7377413  6xdFzPlrasIDD95mQWXVC3Bg4ptnGYtBl4ztVEZMddU=   \n",
       "7377414  ZxbVmt3Kh/XOH+h58c2Kdj6SjFZk+wnUO006IgWzMQE=   \n",
       "7377415  ZxbVmt3Kh/XOH+h58c2Kdj6SjFZk+wnUO006IgWzMQE=   \n",
       "7377416  0aH4Hd3ziPSRHClRX8rkeOEaAG5EPPkW1mKGCdXEok0=   \n",
       "7377417  0aH4Hd3ziPSRHClRX8rkeOEaAG5EPPkW1mKGCdXEok0=   \n",
       "\n",
       "                                              song_id source_system_tab  \\\n",
       "0        BBzumQNXUHKdEBOB7mAJuzok+IJA1c2Ryg/yzTF6tik=           explore   \n",
       "1        bhp/MpSNoqoxOIB+/l8WPqu6jldth4DIpCm3ayXnJqM=        my library   \n",
       "2        JNWfrrC7zNN7BdMpsISKa4Mw+xVJYNnxXh3/Epw7QgY=        my library   \n",
       "3        2A87tzfnJTSWqD7gIZHisolhe4DMdzkbd6LzO1KHjNs=        my library   \n",
       "4        3qm6XTZ6MOCU11x8FIVbAGH5l5uMkT3/ZalWG1oo2Gc=           explore   \n",
       "...                                               ...               ...   \n",
       "7377413  VJTxizih/o28kXCbtPbIyWXScoXGvxyYtl6R+0YB5JM=        my library   \n",
       "7377414  z1mqaU9YOX7T/PFDvUoWozdFq7rC3KwaQP7nFVprjMI=            search   \n",
       "7377415  750RprmFfLV0bymtDH88g24pLZGVi5VpBAI300P6UOA=            search   \n",
       "7377416  G8wgqObgeAMER/rVCIlgcNeQ8mm0CzF/GsxiMK8TTnA=          discover   \n",
       "7377417  Ju0VGkjWeBUZCd7r5Az2hUImhMoWxWLUicOedsmvG0g=          discover   \n",
       "\n",
       "          source_screen_name      source_type  target city   bd  gender  \\\n",
       "0                    Explore  online-playlist       1    1  UNK     UNK   \n",
       "1        Local playlist more   local-playlist       1   13    2  female   \n",
       "2        Local playlist more   local-playlist       1   13    2  female   \n",
       "3        Local playlist more   local-playlist       1   13    2  female   \n",
       "4                    Explore  online-playlist       1    1  UNK     UNK   \n",
       "...                      ...              ...     ...  ...  ...     ...   \n",
       "7377413  Local playlist more   local-playlist       1    4    2  female   \n",
       "7377414               Search             song       0    1  UNK     UNK   \n",
       "7377415               Search             song       1    1  UNK     UNK   \n",
       "7377416       Discover Genre  online-playlist       1    5  UNK     UNK   \n",
       "7377417       Discover Genre  online-playlist       1    5  UNK     UNK   \n",
       "\n",
       "        registered_via registration_init_time expiration_date  song_length  \\\n",
       "0                    7                 201201          201710     206471.0   \n",
       "1                    9                 201105          201709     284584.0   \n",
       "2                    9                 201105          201709     225396.0   \n",
       "3                    9                 201105          201709     255512.0   \n",
       "4                    7                 201201          201710     187802.0   \n",
       "...                ...                    ...             ...          ...   \n",
       "7377413              9                 200412          201709     267958.0   \n",
       "7377414              7                 201306          201710     227404.0   \n",
       "7377415              7                 201306          201710     258298.0   \n",
       "7377416              9                 201502          201709     524146.0   \n",
       "7377417              9                 201502          201709     254026.0   \n",
       "\n",
       "        genre_ids                     artist_name language country year  \n",
       "0             359                        Bastille     52.0      GB   16  \n",
       "1            1259                 Various Artists     52.0      US   99  \n",
       "2            1259                             Nas     52.0      US   06  \n",
       "3            1019                        Soundway     -1.0      GB   10  \n",
       "4            1011                     Brett Young     52.0      QM   16  \n",
       "...           ...                             ...      ...     ...  ...  \n",
       "7377413      1259                         Dr. Dre     52.0      US   99  \n",
       "7377414       465      R. City feat.  Adam Levine     52.0      US   15  \n",
       "7377415       465  兄弟本色G.U.T.S. (姚中仁、張震嶽、頑童MJ116)      3.0      TW   15  \n",
       "7377416      2122               Brad Mehldau Trio     52.0      US   07  \n",
       "7377417       212     Biréli Lagrène| Sylvain Luc     52.0      FR   99  \n",
       "\n",
       "[7377304 rows x 18 columns]"
      ]
     },
     "execution_count": 7,
     "metadata": {},
     "output_type": "execute_result"
    }
   ],
   "source": [
    "data"
   ]
  },
  {
   "cell_type": "markdown",
   "metadata": {},
   "source": [
    "## Training"
   ]
  },
  {
   "cell_type": "code",
   "execution_count": 8,
   "metadata": {},
   "outputs": [],
   "source": [
    "train_data, val_data = train_test_split(data, shuffle=True)\n",
    "train_data = train_data.sort_values(\"msno\")\n",
    "val_data = val_data.sort_values(\"msno\")\n",
    "train_users = train_data.msno.cat.codes.to_numpy()\n",
    "val_users = val_data.msno.cat.codes.to_numpy()\n",
    "cat_features = data.select_dtypes([\"category\"]).columns.to_numpy()"
   ]
  },
  {
   "cell_type": "code",
   "execution_count": 10,
   "metadata": {},
   "outputs": [
    {
     "name": "stdout",
     "output_type": "stream",
     "text": [
      "Groupwise loss function. OneHotMaxSize set to 10\n",
      "0:\ttest: 0.6305819\tbest: 0.6305819 (0)\ttotal: 17.5s\tremaining: 14m 16s\n",
      "1:\ttest: 0.6319099\tbest: 0.6319099 (1)\ttotal: 34.1s\tremaining: 13m 37s\n",
      "2:\ttest: 0.6319055\tbest: 0.6319099 (1)\ttotal: 52.3s\tremaining: 13m 39s\n",
      "3:\ttest: 0.6419051\tbest: 0.6419051 (3)\ttotal: 1m 10s\tremaining: 13m 31s\n",
      "4:\ttest: 0.6426826\tbest: 0.6426826 (4)\ttotal: 1m 29s\tremaining: 13m 29s\n",
      "5:\ttest: 0.6842648\tbest: 0.6842648 (5)\ttotal: 1m 51s\tremaining: 13m 39s\n",
      "6:\ttest: 0.6850961\tbest: 0.6850961 (6)\ttotal: 2m 9s\tremaining: 13m 14s\n",
      "7:\ttest: 0.6837843\tbest: 0.6850961 (6)\ttotal: 2m 27s\tremaining: 12m 53s\n",
      "8:\ttest: 0.6845725\tbest: 0.6850961 (6)\ttotal: 2m 46s\tremaining: 12m 36s\n",
      "9:\ttest: 0.6847481\tbest: 0.6850961 (6)\ttotal: 3m 4s\tremaining: 12m 16s\n",
      "10:\ttest: 0.7303448\tbest: 0.7303448 (10)\ttotal: 3m 21s\tremaining: 11m 55s\n",
      "11:\ttest: 0.7300612\tbest: 0.7303448 (10)\ttotal: 3m 38s\tremaining: 11m 32s\n",
      "12:\ttest: 0.7301993\tbest: 0.7303448 (10)\ttotal: 3m 57s\tremaining: 11m 15s\n",
      "13:\ttest: 0.7303391\tbest: 0.7303448 (10)\ttotal: 4m 17s\tremaining: 11m 1s\n",
      "14:\ttest: 0.7303735\tbest: 0.7303735 (14)\ttotal: 4m 35s\tremaining: 10m 42s\n",
      "15:\ttest: 0.7324667\tbest: 0.7324667 (15)\ttotal: 4m 52s\tremaining: 10m 21s\n",
      "16:\ttest: 0.7326643\tbest: 0.7326643 (16)\ttotal: 5m 10s\tremaining: 10m 3s\n",
      "17:\ttest: 0.7327557\tbest: 0.7327557 (17)\ttotal: 5m 30s\tremaining: 9m 46s\n",
      "18:\ttest: 0.7327159\tbest: 0.7327557 (17)\ttotal: 5m 48s\tremaining: 9m 27s\n",
      "19:\ttest: 0.7328210\tbest: 0.7328210 (19)\ttotal: 6m 6s\tremaining: 9m 10s\n",
      "20:\ttest: 0.7327797\tbest: 0.7328210 (19)\ttotal: 6m 26s\tremaining: 8m 53s\n",
      "21:\ttest: 0.7328241\tbest: 0.7328241 (21)\ttotal: 6m 44s\tremaining: 8m 35s\n",
      "22:\ttest: 0.7327559\tbest: 0.7328241 (21)\ttotal: 7m 2s\tremaining: 8m 15s\n",
      "23:\ttest: 0.7328510\tbest: 0.7328510 (23)\ttotal: 7m 20s\tremaining: 7m 57s\n",
      "24:\ttest: 0.7329319\tbest: 0.7329319 (24)\ttotal: 7m 40s\tremaining: 7m 40s\n",
      "25:\ttest: 0.7567096\tbest: 0.7567096 (25)\ttotal: 7m 59s\tremaining: 7m 23s\n",
      "26:\ttest: 0.7576407\tbest: 0.7576407 (26)\ttotal: 8m 20s\tremaining: 7m 6s\n",
      "27:\ttest: 0.7586824\tbest: 0.7586824 (27)\ttotal: 8m 39s\tremaining: 6m 47s\n",
      "28:\ttest: 0.7595786\tbest: 0.7595786 (28)\ttotal: 8m 58s\tremaining: 6m 30s\n",
      "29:\ttest: 0.7680946\tbest: 0.7680946 (29)\ttotal: 9m 18s\tremaining: 6m 12s\n",
      "30:\ttest: 0.7689744\tbest: 0.7689744 (30)\ttotal: 9m 35s\tremaining: 5m 52s\n",
      "31:\ttest: 0.7696150\tbest: 0.7696150 (31)\ttotal: 9m 52s\tremaining: 5m 33s\n",
      "32:\ttest: 0.7702359\tbest: 0.7702359 (32)\ttotal: 10m 9s\tremaining: 5m 14s\n",
      "33:\ttest: 0.7710683\tbest: 0.7710683 (33)\ttotal: 10m 27s\tremaining: 4m 55s\n",
      "34:\ttest: 0.7711724\tbest: 0.7711724 (34)\ttotal: 10m 45s\tremaining: 4m 36s\n",
      "35:\ttest: 0.7715064\tbest: 0.7715064 (35)\ttotal: 11m 2s\tremaining: 4m 17s\n",
      "36:\ttest: 0.7716484\tbest: 0.7716484 (36)\ttotal: 11m 20s\tremaining: 3m 58s\n",
      "37:\ttest: 0.7717989\tbest: 0.7717989 (37)\ttotal: 11m 37s\tremaining: 3m 40s\n",
      "38:\ttest: 0.7724253\tbest: 0.7724253 (38)\ttotal: 11m 54s\tremaining: 3m 21s\n",
      "39:\ttest: 0.7725968\tbest: 0.7725968 (39)\ttotal: 12m 11s\tremaining: 3m 2s\n",
      "40:\ttest: 0.7734002\tbest: 0.7734002 (40)\ttotal: 12m 29s\tremaining: 2m 44s\n",
      "41:\ttest: 0.7734249\tbest: 0.7734249 (41)\ttotal: 12m 46s\tremaining: 2m 26s\n",
      "42:\ttest: 0.7746163\tbest: 0.7746163 (42)\ttotal: 13m 3s\tremaining: 2m 7s\n",
      "43:\ttest: 0.7747983\tbest: 0.7747983 (43)\ttotal: 13m 21s\tremaining: 1m 49s\n",
      "44:\ttest: 0.7752329\tbest: 0.7752329 (44)\ttotal: 13m 38s\tremaining: 1m 30s\n",
      "45:\ttest: 0.7753146\tbest: 0.7753146 (45)\ttotal: 13m 55s\tremaining: 1m 12s\n",
      "46:\ttest: 0.7753969\tbest: 0.7753969 (46)\ttotal: 14m 13s\tremaining: 54.5s\n",
      "47:\ttest: 0.7755886\tbest: 0.7755886 (47)\ttotal: 14m 30s\tremaining: 36.3s\n",
      "48:\ttest: 0.7757402\tbest: 0.7757402 (48)\ttotal: 14m 48s\tremaining: 18.1s\n",
      "49:\ttest: 0.7756919\tbest: 0.7757402 (48)\ttotal: 15m 6s\tremaining: 0us\n",
      "\n",
      "bestTest = 0.7757401817\n",
      "bestIteration = 48\n",
      "\n",
      "Shrink model to first 49 iterations.\n"
     ]
    }
   ],
   "source": [
    "model = CatBoostRanker(\n",
    "    loss_function='YetiRank',\n",
    "    custom_metric='QueryAUC:type=Ranking',\n",
    "    iterations=50,\n",
    "    random_seed=0\n",
    ")\n",
    "train_pool = Pool(data=train_data.drop(columns=[\"target\"]), label=train_data.target.values, group_id=train_users, cat_features=cat_features, has_header=True)\n",
    "val_pool = Pool(data=val_data.drop(columns=[\"target\"]), label=val_data.target.values, group_id=val_users, cat_features=cat_features, has_header=True)\n",
    "model.fit(train_pool, eval_set=val_pool)\n",
    "results = model.get_evals_result()"
   ]
  },
  {
   "cell_type": "markdown",
   "metadata": {},
   "source": [
    "QueryAUC results:"
   ]
  },
  {
   "cell_type": "code",
   "execution_count": 11,
   "metadata": {},
   "outputs": [
    {
     "name": "stdout",
     "output_type": "stream",
     "text": [
      "Max QueryAUC = 0.5393441781994496\n"
     ]
    },
    {
     "data": {
      "image/png": "[encoded data removed]",
      "text/plain": [
       "<Figure size 432x288 with 1 Axes>"
      ]
     },
     "metadata": {
      "needs_background": "light"
     },
     "output_type": "display_data"
    }
   ],
   "source": [
    "metrics = results['validation']['QueryAUC:type=Ranking']\n",
    "print('Max QueryAUC =', max(metrics))\n",
    "plt.plot(range(len(metrics)), metrics)\n",
    "plt.show()"
   ]
  },
  {
   "cell_type": "code",
   "execution_count": 12,
   "metadata": {},
   "outputs": [],
   "source": [
    "del model"
   ]
  },
  {
   "cell_type": "markdown",
   "metadata": {},
   "source": [
    "# Task 2"
   ]
  },
  {
   "cell_type": "markdown",
   "metadata": {},
   "source": [
    "## Word2vec"
   ]
  },
  {
   "cell_type": "code",
   "execution_count": 13,
   "metadata": {},
   "outputs": [],
   "source": [
    "user_ids = train_data.msno.values\n",
    "song_ids = train_data.song_id.values\n",
    "labels = train_data.target.values"
   ]
  },
  {
   "cell_type": "code",
   "execution_count": 14,
   "metadata": {},
   "outputs": [],
   "source": [
    "users_unique = np.unique(user_ids)\n",
    "per_user_history = [song_ids[user_ids == user_id].tolist() for user_id in users_unique]"
   ]
  },
  {
   "cell_type": "code",
   "execution_count": 15,
   "metadata": {},
   "outputs": [],
   "source": [
    "model = Word2Vec(window=10, vector_size=32, negative=18, sg=1, workers=4, min_count=2)\n",
    "model.build_vocab(per_user_history)\n",
    "model.train(per_user_history, total_examples=model.corpus_count, epochs=5)\n",
    "song_embs = model.wv"
   ]
  },
  {
   "cell_type": "code",
   "execution_count": 16,
   "metadata": {},
   "outputs": [],
   "source": [
    "user_embs = defaultdict(lambda: np.zeros(32))\n",
    "for i, user_id in enumerate(users_unique):\n",
    "    embs = [song_embs[song_id] for song_id in per_user_history[i] if song_id in song_embs]\n",
    "    if len(embs) > 0:\n",
    "        user_embs[user_id] = np.mean(np.array(embs), axis=0)"
   ]
  },
  {
   "cell_type": "markdown",
   "metadata": {},
   "source": [
    "## Similars"
   ]
  },
  {
   "cell_type": "code",
   "execution_count": 17,
   "metadata": {},
   "outputs": [
    {
     "data": {
      "text/html": [
       "<div>\n",
       "<style scoped>\n",
       "    .dataframe tbody tr th:only-of-type {\n",
       "        vertical-align: middle;\n",
       "    }\n",
       "\n",
       "    .dataframe tbody tr th {\n",
       "        vertical-align: top;\n",
       "    }\n",
       "\n",
       "    .dataframe thead th {\n",
       "        text-align: right;\n",
       "    }\n",
       "</style>\n",
       "<table border=\"1\" class=\"dataframe\">\n",
       "  <thead>\n",
       "    <tr style=\"text-align: right;\">\n",
       "      <th></th>\n",
       "      <th>song_id</th>\n",
       "      <th>artist</th>\n",
       "      <th>name</th>\n",
       "    </tr>\n",
       "  </thead>\n",
       "  <tbody>\n",
       "    <tr>\n",
       "      <th>1381</th>\n",
       "      <td>p+WxS35GIo9lHYpW17Bz/PRW+UcGH9R+bq+wU2caYnY=</td>\n",
       "      <td>Eminem</td>\n",
       "      <td>Lose Yourself</td>\n",
       "    </tr>\n",
       "    <tr>\n",
       "      <th>111600</th>\n",
       "      <td>ARjGxZVGrJXEEqIXk/5+67G/nqC1FdH3AuwSQQ1m5G8=</td>\n",
       "      <td>Eminem</td>\n",
       "      <td>Lose Yourself</td>\n",
       "    </tr>\n",
       "    <tr>\n",
       "      <th>1447109</th>\n",
       "      <td>MSCKTsjyD7Urq/vbunDlHmc/xcFrpZ9noEbPrewKxms=</td>\n",
       "      <td>Eminem</td>\n",
       "      <td>Lose Yourself</td>\n",
       "    </tr>\n",
       "    <tr>\n",
       "      <th>2231614</th>\n",
       "      <td>H5vEv5ogrztWon/cj1ZacsNIJzFnQmAytb+ARVjLrA8=</td>\n",
       "      <td>Eminem</td>\n",
       "      <td>Lose Yourself</td>\n",
       "    </tr>\n",
       "  </tbody>\n",
       "</table>\n",
       "</div>"
      ],
      "text/plain": [
       "                                              song_id  artist           name\n",
       "1381     p+WxS35GIo9lHYpW17Bz/PRW+UcGH9R+bq+wU2caYnY=  Eminem  Lose Yourself\n",
       "111600   ARjGxZVGrJXEEqIXk/5+67G/nqC1FdH3AuwSQQ1m5G8=  Eminem  Lose Yourself\n",
       "1447109  MSCKTsjyD7Urq/vbunDlHmc/xcFrpZ9noEbPrewKxms=  Eminem  Lose Yourself\n",
       "2231614  H5vEv5ogrztWon/cj1ZacsNIJzFnQmAytb+ARVjLrA8=  Eminem  Lose Yourself"
      ]
     },
     "execution_count": 17,
     "metadata": {},
     "output_type": "execute_result"
    }
   ],
   "source": [
    "songs_names[(songs_names.artist == 'Eminem') & (songs_names.name == \"Lose Yourself\")]"
   ]
  },
  {
   "cell_type": "code",
   "execution_count": 18,
   "metadata": {},
   "outputs": [],
   "source": [
    "def show_similars(song_id):\n",
    "    similars = song_embs.similar_by_vector(song_embs[song_id], topn=10)\n",
    "    for similar_id, score in similars:\n",
    "        similar_song = songs_names[songs_names.song_id == similar_id]\n",
    "        print(f'{similar_song.artist.values[0]} - {similar_song.name.values[0]} (score = {score:.4f})')"
   ]
  },
  {
   "cell_type": "code",
   "execution_count": 19,
   "metadata": {},
   "outputs": [
    {
     "name": "stdout",
     "output_type": "stream",
     "text": [
      "Eminem - Lose Yourself (score = 1.0000)\n",
      "Eminem - Not Afraid (score = 0.9576)\n",
      "Drake - Hotline Bling (score = 0.9185)\n",
      "Flo Rida - Low (feat T-Pain) (score = 0.9128)\n",
      "Chris Brown - Yeah 3x (score = 0.9106)\n",
      "Chris Brown - Turn Up The Music (score = 0.9101)\n",
      "Pitbull - Pause (score = 0.9086)\n",
      "Desiigner - Panda (score = 0.9082)\n",
      "Machine Gun Kelly| Camila Cabello - Bad Things (score = 0.9064)\n",
      "Flo Rida - Radio (Amended Version) (score = 0.9040)\n"
     ]
    }
   ],
   "source": [
    "show_similars('p+WxS35GIo9lHYpW17Bz/PRW+UcGH9R+bq+wU2caYnY=')"
   ]
  },
  {
   "cell_type": "code",
   "execution_count": 20,
   "metadata": {},
   "outputs": [
    {
     "name": "stdout",
     "output_type": "stream",
     "text": [
      "Nirvana - Smells Like Teen Spirit (score = 1.0000)\n",
      "Michael Jackson - Song Groove (A/K/A Abortion Papers) (score = 0.9814)\n",
      "廣告配樂精選 - One Fish in the Sea (score = 0.9808)\n",
      "Tyler Ward - Locked Out Of Heaven (score = 0.9804)\n",
      "High School Musical : The Concert - Breaking Free (score = 0.9803)\n",
      "Ai Otsuka (大塚愛) - 恋愛写真 -春- (score = 0.9793)\n",
      "舞力對決 - September (David Jones Remix Edit) - Groove Phenomenon (score = 0.9792)\n",
      "讚美之泉音樂事工 (Stream of Praise Music Ministries) - 我一生要讚美祢 (score = 0.9792)\n",
      "阿蘭 (alan) - Diamond (score = 0.9786)\n",
      "Broods - Hold The Line (score = 0.9783)\n"
     ]
    }
   ],
   "source": [
    "show_similars('1+LpXZdRvRniTDAsIw9ME5qRyInyaF2938CTIqIq20c=')"
   ]
  },
  {
   "cell_type": "code",
   "execution_count": 21,
   "metadata": {},
   "outputs": [
    {
     "name": "stdout",
     "output_type": "stream",
     "text": [
      "Rihanna - Umbrella (score = 1.0000)\n",
      "OceanLab - Lonely Girl (score = 0.9788)\n",
      "Chuckie - Skydive (feat. Maiday) (score = 0.9772)\n",
      "Selena Gomez - A Year Without Rain (score = 0.9725)\n",
      "Tiësto - The Feeling (score = 0.9724)\n",
      "Snoop Dogg - Kush Ups (feat. Wiz Khalifa) (score = 0.9702)\n",
      "舞力對決 - Good Time - Flava & Stevenson ft. FreeG & Fat-k (score = 0.9696)\n",
      "Zendaya - Replay (score = 0.9694)\n",
      "Maria Arredondo - I need you (score = 0.9694)\n",
      "Kesha - Dancing With Tears In My Eyes (score = 0.9692)\n"
     ]
    }
   ],
   "source": [
    "show_similars('Q85XvdDDhcx6ohpVCj26yD9lWeT28fUsKSrl07hqHz4=')"
   ]
  },
  {
   "cell_type": "markdown",
   "metadata": {},
   "source": [
    "## Recommendations"
   ]
  },
  {
   "cell_type": "code",
   "execution_count": 22,
   "metadata": {},
   "outputs": [
    {
     "name": "stderr",
     "output_type": "stream",
     "text": [
      "100%|██████████████████████████████████████████████████████████████████████| 1844326/1844326 [00:40<00:00, 45511.69it/s]\n"
     ]
    }
   ],
   "source": [
    "val_user_ids = val_data.msno.values\n",
    "val_song_ids = val_data.song_id.values\n",
    "val_labels = val_data.target.values\n",
    "assert len(val_user_ids.shape) == 1\n",
    "val_scores = np.zeros_like(val_labels, dtype=float)\n",
    "counter = 0\n",
    "for i in tqdm(range(len(val_user_ids))):\n",
    "    if val_user_ids[i] in user_embs and val_song_ids[i] in song_embs:\n",
    "        counter += 1\n",
    "        val_scores[i] = user_embs[val_user_ids[i]] @ song_embs[val_song_ids[i]]"
   ]
  },
  {
   "cell_type": "code",
   "execution_count": 23,
   "metadata": {},
   "outputs": [
    {
     "data": {
      "text/plain": [
       "0.9573567796582599"
      ]
     },
     "execution_count": 23,
     "metadata": {},
     "output_type": "execute_result"
    }
   ],
   "source": [
    "counter / len(val_user_ids)"
   ]
  },
  {
   "cell_type": "code",
   "execution_count": 24,
   "metadata": {},
   "outputs": [
    {
     "data": {
      "text/plain": [
       "0.5805835980897763"
      ]
     },
     "execution_count": 24,
     "metadata": {},
     "output_type": "execute_result"
    }
   ],
   "source": [
    "roc_auc_score(val_labels, val_scores)"
   ]
  },
  {
   "cell_type": "markdown",
   "metadata": {},
   "source": [
    "## Stack"
   ]
  },
  {
   "cell_type": "code",
   "execution_count": 25,
   "metadata": {},
   "outputs": [],
   "source": [
    "val_data['w2v_scores'] = val_scores"
   ]
  },
  {
   "cell_type": "code",
   "execution_count": 26,
   "metadata": {},
   "outputs": [
    {
     "name": "stderr",
     "output_type": "stream",
     "text": [
      "100%|██████████████████████████████████████████████████████████████████████| 5532978/5532978 [02:12<00:00, 41626.69it/s]\n"
     ]
    }
   ],
   "source": [
    "train_scores = np.zeros_like(labels, dtype=float)\n",
    "for i in tqdm(range(len(user_ids))):\n",
    "    if user_ids[i] in user_embs and song_ids[i] in song_embs:\n",
    "        counter += 1\n",
    "        train_scores[i] = user_embs[user_ids[i]] @ song_embs[song_ids[i]]\n",
    "train_data['w2v_scores'] = train_scores"
   ]
  },
  {
   "cell_type": "code",
   "execution_count": 27,
   "metadata": {},
   "outputs": [
    {
     "name": "stdout",
     "output_type": "stream",
     "text": [
      "Groupwise loss function. OneHotMaxSize set to 10\n",
      "0:\ttest: 0.6609868\tbest: 0.6609868 (0)\ttotal: 17.7s\tremaining: 11m 31s\n",
      "1:\ttest: 0.6671516\tbest: 0.6671516 (1)\ttotal: 35.7s\tremaining: 11m 18s\n",
      "2:\ttest: 0.6681016\tbest: 0.6681016 (2)\ttotal: 54.2s\tremaining: 11m 8s\n",
      "3:\ttest: 0.6681352\tbest: 0.6681352 (3)\ttotal: 1m 11s\tremaining: 10m 44s\n",
      "4:\ttest: 0.6789096\tbest: 0.6789096 (4)\ttotal: 1m 29s\tremaining: 10m 24s\n",
      "5:\ttest: 0.6878976\tbest: 0.6878976 (5)\ttotal: 1m 46s\tremaining: 10m 4s\n",
      "6:\ttest: 0.6907436\tbest: 0.6907436 (6)\ttotal: 2m 4s\tremaining: 9m 44s\n",
      "7:\ttest: 0.6911279\tbest: 0.6911279 (7)\ttotal: 2m 23s\tremaining: 9m 32s\n",
      "8:\ttest: 0.6908537\tbest: 0.6911279 (7)\ttotal: 2m 40s\tremaining: 9m 11s\n",
      "9:\ttest: 0.6912414\tbest: 0.6912414 (9)\ttotal: 2m 57s\tremaining: 8m 53s\n",
      "10:\ttest: 0.6990085\tbest: 0.6990085 (10)\ttotal: 3m 14s\tremaining: 8m 34s\n",
      "11:\ttest: 0.7206385\tbest: 0.7206385 (11)\ttotal: 3m 32s\tremaining: 8m 15s\n",
      "12:\ttest: 0.7223960\tbest: 0.7223960 (12)\ttotal: 3m 49s\tremaining: 7m 56s\n",
      "13:\ttest: 0.7223336\tbest: 0.7223960 (12)\ttotal: 4m 7s\tremaining: 7m 39s\n",
      "14:\ttest: 0.7452696\tbest: 0.7452696 (14)\ttotal: 4m 24s\tremaining: 7m 20s\n",
      "15:\ttest: 0.7460344\tbest: 0.7460344 (15)\ttotal: 4m 41s\tremaining: 7m 2s\n",
      "16:\ttest: 0.7466351\tbest: 0.7466351 (16)\ttotal: 4m 59s\tremaining: 6m 44s\n",
      "17:\ttest: 0.7465750\tbest: 0.7466351 (16)\ttotal: 5m 16s\tremaining: 6m 27s\n",
      "18:\ttest: 0.7472479\tbest: 0.7472479 (18)\ttotal: 5m 33s\tremaining: 6m 9s\n",
      "19:\ttest: 0.7475497\tbest: 0.7475497 (19)\ttotal: 5m 51s\tremaining: 5m 51s\n",
      "20:\ttest: 0.7476190\tbest: 0.7476190 (20)\ttotal: 6m 9s\tremaining: 5m 34s\n",
      "21:\ttest: 0.7478188\tbest: 0.7478188 (21)\ttotal: 6m 26s\tremaining: 5m 16s\n",
      "22:\ttest: 0.7486964\tbest: 0.7486964 (22)\ttotal: 6m 44s\tremaining: 4m 58s\n",
      "23:\ttest: 0.7485539\tbest: 0.7486964 (22)\ttotal: 7m 1s\tremaining: 4m 41s\n",
      "24:\ttest: 0.7487030\tbest: 0.7487030 (24)\ttotal: 7m 19s\tremaining: 4m 23s\n",
      "25:\ttest: 0.7487488\tbest: 0.7487488 (25)\ttotal: 7m 36s\tremaining: 4m 5s\n",
      "26:\ttest: 0.7629664\tbest: 0.7629664 (26)\ttotal: 7m 54s\tremaining: 3m 48s\n",
      "27:\ttest: 0.7644362\tbest: 0.7644362 (27)\ttotal: 8m 12s\tremaining: 3m 31s\n",
      "28:\ttest: 0.7652823\tbest: 0.7652823 (28)\ttotal: 8m 29s\tremaining: 3m 13s\n",
      "29:\ttest: 0.7687565\tbest: 0.7687565 (29)\ttotal: 8m 47s\tremaining: 2m 55s\n",
      "30:\ttest: 0.7695188\tbest: 0.7695188 (30)\ttotal: 9m 4s\tremaining: 2m 38s\n",
      "31:\ttest: 0.7705165\tbest: 0.7705165 (31)\ttotal: 9m 21s\tremaining: 2m 20s\n",
      "32:\ttest: 0.7737373\tbest: 0.7737373 (32)\ttotal: 9m 38s\tremaining: 2m 2s\n",
      "33:\ttest: 0.7741853\tbest: 0.7741853 (33)\ttotal: 9m 56s\tremaining: 1m 45s\n",
      "34:\ttest: 0.7748424\tbest: 0.7748424 (34)\ttotal: 10m 13s\tremaining: 1m 27s\n",
      "35:\ttest: 0.7752112\tbest: 0.7752112 (35)\ttotal: 10m 30s\tremaining: 1m 10s\n",
      "36:\ttest: 0.7760547\tbest: 0.7760547 (36)\ttotal: 10m 48s\tremaining: 52.6s\n",
      "37:\ttest: 0.7761928\tbest: 0.7761928 (37)\ttotal: 11m 6s\tremaining: 35.1s\n",
      "38:\ttest: 0.7761506\tbest: 0.7761928 (37)\ttotal: 11m 23s\tremaining: 17.5s\n",
      "39:\ttest: 0.7764161\tbest: 0.7764161 (39)\ttotal: 11m 41s\tremaining: 0us\n",
      "\n",
      "bestTest = 0.7764161358\n",
      "bestIteration = 39\n",
      "\n"
     ]
    }
   ],
   "source": [
    "model = CatBoostRanker(\n",
    "    loss_function='YetiRank',\n",
    "    custom_metric='QueryAUC:type=Ranking',\n",
    "    iterations=40,\n",
    "    random_seed=0\n",
    ")\n",
    "train_pool = Pool(data=train_data.drop(columns=[\"target\"]), label=train_data.target.values, group_id=train_users, cat_features=cat_features, has_header=True)\n",
    "val_pool = Pool(data=val_data.drop(columns=[\"target\"]), label=val_data.target.values, group_id=val_users, cat_features=cat_features, has_header=True)\n",
    "model.fit(train_pool, eval_set=val_pool)\n",
    "results = model.get_evals_result()"
   ]
  },
  {
   "cell_type": "code",
   "execution_count": 28,
   "metadata": {},
   "outputs": [
    {
     "name": "stdout",
     "output_type": "stream",
     "text": [
      "Max QueryAUC = 0.5415528131266453\n"
     ]
    },
    {
     "data": {
      "image/png": "[encoded data removed]",
      "text/plain": [
       "<Figure size 432x288 with 1 Axes>"
      ]
     },
     "metadata": {
      "needs_background": "light"
     },
     "output_type": "display_data"
    }
   ],
   "source": [
    "metrics = results['validation']['QueryAUC:type=Ranking']\n",
    "print('Max QueryAUC =', max(metrics))\n",
    "plt.plot(range(len(metrics)), metrics)\n",
    "plt.show()"
   ]
  },
  {
   "cell_type": "markdown",
   "metadata": {},
   "source": [
    "Результат немного лучше, но незначительно. Так как AUC при использовании просто similarities был 0.58, то неудивительно."
   ]
  },
  {
   "cell_type": "markdown",
   "metadata": {},
   "source": [
    "## SHAP"
   ]
  },
  {
   "cell_type": "code",
   "execution_count": 29,
   "metadata": {},
   "outputs": [],
   "source": [
    "shap_data = train_data.drop(columns=[\"target\"])[:10000]"
   ]
  },
  {
   "cell_type": "code",
   "execution_count": 30,
   "metadata": {},
   "outputs": [],
   "source": [
    "explainer = shap.TreeExplainer(model)\n",
    "shap_values = explainer.shap_values(shap_data)"
   ]
  },
  {
   "cell_type": "code",
   "execution_count": 32,
   "metadata": {},
   "outputs": [
    {
     "data": {
      "image/png": "[encoded data removed]",
      "text/plain": [
       "<Figure size 576x626.4 with 2 Axes>"
      ]
     },
     "metadata": {
      "needs_background": "light"
     },
     "output_type": "display_data"
    }
   ],
   "source": [
    "shap.summary_plot(shap_values, shap_data)"
   ]
  },
  {
   "cell_type": "code",
   "execution_count": null,
   "metadata": {},
   "outputs": [],
   "source": []
  }
 ],
 "metadata": {
  "interpreter": {
   "hash": "02abe3438f573cc4843c26f773d408f4e515da3aef7f06b892002fc0b9da1387"
  },
  "kernelspec": {
   "display_name": "Python 3 (ipykernel)",
   "language": "python",
   "name": "python3"
  },
  "language_info": {
   "codemirror_mode": {
    "name": "ipython",
    "version": 3
   },
   "file_extension": ".py",
   "mimetype": "text/x-python",
   "name": "python",
   "nbconvert_exporter": "python",
   "pygments_lexer": "ipython3",
   "version": "3.7.11"
  }
 },
 "nbformat": 4,
 "nbformat_minor": 4
}
