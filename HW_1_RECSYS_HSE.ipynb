{
 "cells": [
  {
   "cell_type": "markdown",
   "metadata": {},
   "source": [
    "### Матричные факторизации"
   ]
  },
  {
   "cell_type": "markdown",
   "metadata": {},
   "source": [
    "В данной работе вам предстоит познакомиться с практической стороной матричных разложений.\n",
    "Работа поделена на 4 задания:\n",
    "1. Вам необходимо реализовать SVD разложения используя SGD на explicit данных\n",
    "2. Вам необходимо реализовать матричное разложения используя ALS на implicit данных\n",
    "3. Вам необходимо реализовать матричное разложения используя BPR на implicit данных\n",
    "4. Вам необходимо реализовать матричное разложения используя WARP на implicit данных\n",
    "\n",
    "Мягкий дедлайн 13 Октября (пишутся замечания, выставляется оценка, есть возможность исправить до жесткого дедлайна)\n",
    "\n",
    "Жесткий дедлайн 20 Октября (Итоговая проверка)"
   ]
  },
  {
   "cell_type": "code",
   "execution_count": 1,
   "metadata": {},
   "outputs": [],
   "source": [
    "import implicit\n",
    "import pandas as pd\n",
    "import numpy as np\n",
    "import scipy.sparse as sp\n",
    "from tqdm import tqdm\n",
    "from scipy.special import expit as sigmoid\n",
    "\n",
    "from lightfm.datasets import fetch_movielens"
   ]
  },
  {
   "cell_type": "markdown",
   "metadata": {},
   "source": [
    "В данной работе мы будем работать с explicit датасетом movieLens, в котором представленны пары user_id movie_id и rating выставленный пользователем фильму\n",
    "\n",
    "Скачать датасет можно по ссылке https://grouplens.org/datasets/movielens/1m/"
   ]
  },
  {
   "cell_type": "code",
   "execution_count": 2,
   "metadata": {},
   "outputs": [],
   "source": [
    "ratings = pd.read_csv('ml-1m/ratings.dat', delimiter='::', header=None, \n",
    "        names=['user_id', 'movie_id', 'rating', 'timestamp'], \n",
    "        usecols=['user_id', 'movie_id', 'rating'], engine='python')"
   ]
  },
  {
   "cell_type": "code",
   "execution_count": 3,
   "metadata": {},
   "outputs": [],
   "source": [
    "movie_info = pd.read_csv('ml-1m/movies.dat', delimiter='::', header=None, \n",
    "        names=['movie_id', 'name', 'category'], engine='python', encoding='latin-1')"
   ]
  },
  {
   "cell_type": "markdown",
   "metadata": {},
   "source": [
    "Explicit данные"
   ]
  },
  {
   "cell_type": "code",
   "execution_count": 4,
   "metadata": {},
   "outputs": [
    {
     "data": {
      "text/html": [
       "<div>\n",
       "<style scoped>\n",
       "    .dataframe tbody tr th:only-of-type {\n",
       "        vertical-align: middle;\n",
       "    }\n",
       "\n",
       "    .dataframe tbody tr th {\n",
       "        vertical-align: top;\n",
       "    }\n",
       "\n",
       "    .dataframe thead th {\n",
       "        text-align: right;\n",
       "    }\n",
       "</style>\n",
       "<table border=\"1\" class=\"dataframe\">\n",
       "  <thead>\n",
       "    <tr style=\"text-align: right;\">\n",
       "      <th></th>\n",
       "      <th>user_id</th>\n",
       "      <th>movie_id</th>\n",
       "      <th>rating</th>\n",
       "    </tr>\n",
       "  </thead>\n",
       "  <tbody>\n",
       "    <tr>\n",
       "      <th>0</th>\n",
       "      <td>1</td>\n",
       "      <td>1193</td>\n",
       "      <td>5</td>\n",
       "    </tr>\n",
       "    <tr>\n",
       "      <th>1</th>\n",
       "      <td>1</td>\n",
       "      <td>661</td>\n",
       "      <td>3</td>\n",
       "    </tr>\n",
       "    <tr>\n",
       "      <th>2</th>\n",
       "      <td>1</td>\n",
       "      <td>914</td>\n",
       "      <td>3</td>\n",
       "    </tr>\n",
       "    <tr>\n",
       "      <th>3</th>\n",
       "      <td>1</td>\n",
       "      <td>3408</td>\n",
       "      <td>4</td>\n",
       "    </tr>\n",
       "    <tr>\n",
       "      <th>4</th>\n",
       "      <td>1</td>\n",
       "      <td>2355</td>\n",
       "      <td>5</td>\n",
       "    </tr>\n",
       "    <tr>\n",
       "      <th>...</th>\n",
       "      <td>...</td>\n",
       "      <td>...</td>\n",
       "      <td>...</td>\n",
       "    </tr>\n",
       "    <tr>\n",
       "      <th>1000204</th>\n",
       "      <td>6040</td>\n",
       "      <td>1091</td>\n",
       "      <td>1</td>\n",
       "    </tr>\n",
       "    <tr>\n",
       "      <th>1000205</th>\n",
       "      <td>6040</td>\n",
       "      <td>1094</td>\n",
       "      <td>5</td>\n",
       "    </tr>\n",
       "    <tr>\n",
       "      <th>1000206</th>\n",
       "      <td>6040</td>\n",
       "      <td>562</td>\n",
       "      <td>5</td>\n",
       "    </tr>\n",
       "    <tr>\n",
       "      <th>1000207</th>\n",
       "      <td>6040</td>\n",
       "      <td>1096</td>\n",
       "      <td>4</td>\n",
       "    </tr>\n",
       "    <tr>\n",
       "      <th>1000208</th>\n",
       "      <td>6040</td>\n",
       "      <td>1097</td>\n",
       "      <td>4</td>\n",
       "    </tr>\n",
       "  </tbody>\n",
       "</table>\n",
       "<p>1000209 rows × 3 columns</p>\n",
       "</div>"
      ],
      "text/plain": [
       "         user_id  movie_id  rating\n",
       "0              1      1193       5\n",
       "1              1       661       3\n",
       "2              1       914       3\n",
       "3              1      3408       4\n",
       "4              1      2355       5\n",
       "...          ...       ...     ...\n",
       "1000204     6040      1091       1\n",
       "1000205     6040      1094       5\n",
       "1000206     6040       562       5\n",
       "1000207     6040      1096       4\n",
       "1000208     6040      1097       4\n",
       "\n",
       "[1000209 rows x 3 columns]"
      ]
     },
     "execution_count": 4,
     "metadata": {},
     "output_type": "execute_result"
    }
   ],
   "source": [
    "ratings"
   ]
  },
  {
   "cell_type": "markdown",
   "metadata": {},
   "source": [
    "Для того, чтобы преобразовать текущий датасет в Implicit, давайте считать что позитивная оценка это оценка >=4"
   ]
  },
  {
   "cell_type": "code",
   "execution_count": 5,
   "metadata": {},
   "outputs": [],
   "source": [
    "implicit_ratings = ratings.loc[(ratings['rating'] >= 4)]"
   ]
  },
  {
   "cell_type": "code",
   "execution_count": 6,
   "metadata": {},
   "outputs": [
    {
     "data": {
      "text/html": [
       "<div>\n",
       "<style scoped>\n",
       "    .dataframe tbody tr th:only-of-type {\n",
       "        vertical-align: middle;\n",
       "    }\n",
       "\n",
       "    .dataframe tbody tr th {\n",
       "        vertical-align: top;\n",
       "    }\n",
       "\n",
       "    .dataframe thead th {\n",
       "        text-align: right;\n",
       "    }\n",
       "</style>\n",
       "<table border=\"1\" class=\"dataframe\">\n",
       "  <thead>\n",
       "    <tr style=\"text-align: right;\">\n",
       "      <th></th>\n",
       "      <th>user_id</th>\n",
       "      <th>movie_id</th>\n",
       "      <th>rating</th>\n",
       "    </tr>\n",
       "  </thead>\n",
       "  <tbody>\n",
       "    <tr>\n",
       "      <th>0</th>\n",
       "      <td>1</td>\n",
       "      <td>1193</td>\n",
       "      <td>5</td>\n",
       "    </tr>\n",
       "    <tr>\n",
       "      <th>3</th>\n",
       "      <td>1</td>\n",
       "      <td>3408</td>\n",
       "      <td>4</td>\n",
       "    </tr>\n",
       "    <tr>\n",
       "      <th>4</th>\n",
       "      <td>1</td>\n",
       "      <td>2355</td>\n",
       "      <td>5</td>\n",
       "    </tr>\n",
       "    <tr>\n",
       "      <th>6</th>\n",
       "      <td>1</td>\n",
       "      <td>1287</td>\n",
       "      <td>5</td>\n",
       "    </tr>\n",
       "    <tr>\n",
       "      <th>7</th>\n",
       "      <td>1</td>\n",
       "      <td>2804</td>\n",
       "      <td>5</td>\n",
       "    </tr>\n",
       "    <tr>\n",
       "      <th>8</th>\n",
       "      <td>1</td>\n",
       "      <td>594</td>\n",
       "      <td>4</td>\n",
       "    </tr>\n",
       "    <tr>\n",
       "      <th>9</th>\n",
       "      <td>1</td>\n",
       "      <td>919</td>\n",
       "      <td>4</td>\n",
       "    </tr>\n",
       "    <tr>\n",
       "      <th>10</th>\n",
       "      <td>1</td>\n",
       "      <td>595</td>\n",
       "      <td>5</td>\n",
       "    </tr>\n",
       "    <tr>\n",
       "      <th>11</th>\n",
       "      <td>1</td>\n",
       "      <td>938</td>\n",
       "      <td>4</td>\n",
       "    </tr>\n",
       "    <tr>\n",
       "      <th>12</th>\n",
       "      <td>1</td>\n",
       "      <td>2398</td>\n",
       "      <td>4</td>\n",
       "    </tr>\n",
       "  </tbody>\n",
       "</table>\n",
       "</div>"
      ],
      "text/plain": [
       "    user_id  movie_id  rating\n",
       "0         1      1193       5\n",
       "3         1      3408       4\n",
       "4         1      2355       5\n",
       "6         1      1287       5\n",
       "7         1      2804       5\n",
       "8         1       594       4\n",
       "9         1       919       4\n",
       "10        1       595       5\n",
       "11        1       938       4\n",
       "12        1      2398       4"
      ]
     },
     "execution_count": 6,
     "metadata": {},
     "output_type": "execute_result"
    }
   ],
   "source": [
    "implicit_ratings.head(10)"
   ]
  },
  {
   "cell_type": "markdown",
   "metadata": {},
   "source": [
    "Удобнее работать с sparse матричками, давайте преобразуем DataFrame в CSR матрицы"
   ]
  },
  {
   "cell_type": "code",
   "execution_count": 7,
   "metadata": {},
   "outputs": [],
   "source": [
    "users = implicit_ratings[\"user_id\"]\n",
    "movies = implicit_ratings[\"movie_id\"]\n",
    "user_item = sp.coo_matrix((np.ones_like(users), (users, movies)))\n",
    "user_item_t_csr = user_item.T.tocsr()\n",
    "user_item_csr = user_item.tocsr()"
   ]
  },
  {
   "cell_type": "markdown",
   "metadata": {},
   "source": [
    "В качестве примера воспользуемся ALS разложением из библиотеки implicit\n",
    "\n",
    "Зададим размерность латентного пространства равным 64, это же определяет размер user/item эмбедингов"
   ]
  },
  {
   "cell_type": "code",
   "execution_count": 8,
   "metadata": {},
   "outputs": [
    {
     "name": "stderr",
     "output_type": "stream",
     "text": [
      "WARNING:root:Intel MKL BLAS detected. Its highly recommend to set the environment variable 'export MKL_NUM_THREADS=1' to disable its internal multithreading\n"
     ]
    }
   ],
   "source": [
    "model = implicit.als.AlternatingLeastSquares(factors=64, iterations=100, calculate_training_loss=True)"
   ]
  },
  {
   "cell_type": "markdown",
   "metadata": {},
   "source": [
    "В качестве loss здесь всеми любимый RMSE"
   ]
  },
  {
   "cell_type": "code",
   "execution_count": 9,
   "metadata": {},
   "outputs": [
    {
     "data": {
      "application/vnd.jupyter.widget-view+json": {
       "model_id": "70ac2a09dcb9444ebee8aecb330c448a",
       "version_major": 2,
       "version_minor": 0
      },
      "text/plain": [
       "  0%|          | 0/100 [00:00<?, ?it/s]"
      ]
     },
     "metadata": {},
     "output_type": "display_data"
    }
   ],
   "source": [
    "model.fit(user_item_t_csr)"
   ]
  },
  {
   "cell_type": "markdown",
   "metadata": {},
   "source": [
    "Построим похожие фильмы по 1 movie_id = Истории игрушек"
   ]
  },
  {
   "cell_type": "code",
   "execution_count": 10,
   "metadata": {},
   "outputs": [
    {
     "data": {
      "text/html": [
       "<div>\n",
       "<style scoped>\n",
       "    .dataframe tbody tr th:only-of-type {\n",
       "        vertical-align: middle;\n",
       "    }\n",
       "\n",
       "    .dataframe tbody tr th {\n",
       "        vertical-align: top;\n",
       "    }\n",
       "\n",
       "    .dataframe thead th {\n",
       "        text-align: right;\n",
       "    }\n",
       "</style>\n",
       "<table border=\"1\" class=\"dataframe\">\n",
       "  <thead>\n",
       "    <tr style=\"text-align: right;\">\n",
       "      <th></th>\n",
       "      <th>movie_id</th>\n",
       "      <th>name</th>\n",
       "      <th>category</th>\n",
       "    </tr>\n",
       "  </thead>\n",
       "  <tbody>\n",
       "    <tr>\n",
       "      <th>0</th>\n",
       "      <td>1</td>\n",
       "      <td>Toy Story (1995)</td>\n",
       "      <td>Animation|Children's|Comedy</td>\n",
       "    </tr>\n",
       "    <tr>\n",
       "      <th>1</th>\n",
       "      <td>2</td>\n",
       "      <td>Jumanji (1995)</td>\n",
       "      <td>Adventure|Children's|Fantasy</td>\n",
       "    </tr>\n",
       "    <tr>\n",
       "      <th>2</th>\n",
       "      <td>3</td>\n",
       "      <td>Grumpier Old Men (1995)</td>\n",
       "      <td>Comedy|Romance</td>\n",
       "    </tr>\n",
       "    <tr>\n",
       "      <th>3</th>\n",
       "      <td>4</td>\n",
       "      <td>Waiting to Exhale (1995)</td>\n",
       "      <td>Comedy|Drama</td>\n",
       "    </tr>\n",
       "    <tr>\n",
       "      <th>4</th>\n",
       "      <td>5</td>\n",
       "      <td>Father of the Bride Part II (1995)</td>\n",
       "      <td>Comedy</td>\n",
       "    </tr>\n",
       "    <tr>\n",
       "      <th>...</th>\n",
       "      <td>...</td>\n",
       "      <td>...</td>\n",
       "      <td>...</td>\n",
       "    </tr>\n",
       "    <tr>\n",
       "      <th>3878</th>\n",
       "      <td>3948</td>\n",
       "      <td>Meet the Parents (2000)</td>\n",
       "      <td>Comedy</td>\n",
       "    </tr>\n",
       "    <tr>\n",
       "      <th>3879</th>\n",
       "      <td>3949</td>\n",
       "      <td>Requiem for a Dream (2000)</td>\n",
       "      <td>Drama</td>\n",
       "    </tr>\n",
       "    <tr>\n",
       "      <th>3880</th>\n",
       "      <td>3950</td>\n",
       "      <td>Tigerland (2000)</td>\n",
       "      <td>Drama</td>\n",
       "    </tr>\n",
       "    <tr>\n",
       "      <th>3881</th>\n",
       "      <td>3951</td>\n",
       "      <td>Two Family House (2000)</td>\n",
       "      <td>Drama</td>\n",
       "    </tr>\n",
       "    <tr>\n",
       "      <th>3882</th>\n",
       "      <td>3952</td>\n",
       "      <td>Contender, The (2000)</td>\n",
       "      <td>Drama|Thriller</td>\n",
       "    </tr>\n",
       "  </tbody>\n",
       "</table>\n",
       "<p>3883 rows × 3 columns</p>\n",
       "</div>"
      ],
      "text/plain": [
       "      movie_id                                name  \\\n",
       "0            1                    Toy Story (1995)   \n",
       "1            2                      Jumanji (1995)   \n",
       "2            3             Grumpier Old Men (1995)   \n",
       "3            4            Waiting to Exhale (1995)   \n",
       "4            5  Father of the Bride Part II (1995)   \n",
       "...        ...                                 ...   \n",
       "3878      3948             Meet the Parents (2000)   \n",
       "3879      3949          Requiem for a Dream (2000)   \n",
       "3880      3950                    Tigerland (2000)   \n",
       "3881      3951             Two Family House (2000)   \n",
       "3882      3952               Contender, The (2000)   \n",
       "\n",
       "                          category  \n",
       "0      Animation|Children's|Comedy  \n",
       "1     Adventure|Children's|Fantasy  \n",
       "2                   Comedy|Romance  \n",
       "3                     Comedy|Drama  \n",
       "4                           Comedy  \n",
       "...                            ...  \n",
       "3878                        Comedy  \n",
       "3879                         Drama  \n",
       "3880                         Drama  \n",
       "3881                         Drama  \n",
       "3882                Drama|Thriller  \n",
       "\n",
       "[3883 rows x 3 columns]"
      ]
     },
     "execution_count": 10,
     "metadata": {},
     "output_type": "execute_result"
    }
   ],
   "source": [
    "movie_info"
   ]
  },
  {
   "cell_type": "code",
   "execution_count": 11,
   "metadata": {},
   "outputs": [],
   "source": [
    "get_similars = lambda item_id, model : [movie_info[movie_info[\"movie_id\"] == x[0]][\"name\"].to_string() \n",
    "                                        for x in model.similar_items(item_id)]"
   ]
  },
  {
   "cell_type": "markdown",
   "metadata": {},
   "source": [
    "Как мы видим, симилары действительно оказались симиларами.\n",
    "\n",
    "Качество симиларов часто является хорошим способом проверить качество алгоритмов.\n",
    "\n",
    "P.S. Если хочется поглубже разобраться в том как разные алгоритмы формируют разные латентные пространства, рекомендую загружать полученные вектора в tensorBoard и смотреть на сформированное пространство"
   ]
  },
  {
   "cell_type": "code",
   "execution_count": 12,
   "metadata": {},
   "outputs": [
    {
     "data": {
      "text/plain": [
       "['0    Toy Story (1995)',\n",
       " '3045    Toy Story 2 (1999)',\n",
       " \"2286    Bug's Life, A (1998)\",\n",
       " '584    Aladdin (1992)',\n",
       " '33    Babe (1995)',\n",
       " '360    Lion King, The (1994)',\n",
       " '2315    Babe: Pig in the City (1998)',\n",
       " '1838    Mulan (1998)',\n",
       " '2618    Tarzan (1999)',\n",
       " '1526    Hercules (1997)']"
      ]
     },
     "execution_count": 12,
     "metadata": {},
     "output_type": "execute_result"
    }
   ],
   "source": [
    "get_similars(1, model)"
   ]
  },
  {
   "cell_type": "markdown",
   "metadata": {},
   "source": [
    "Давайте теперь построим рекомендации для юзеров\n",
    "\n",
    "Как мы видим юзеру нравится фантастика, значит и в рекомендациях ожидаем увидеть фантастику"
   ]
  },
  {
   "cell_type": "code",
   "execution_count": 13,
   "metadata": {},
   "outputs": [],
   "source": [
    "get_user_history = lambda user_id, implicit_ratings : [movie_info[movie_info[\"movie_id\"] == x][\"name\"].to_string() \n",
    "                                            for x in implicit_ratings[implicit_ratings[\"user_id\"] == user_id][\"movie_id\"]]"
   ]
  },
  {
   "cell_type": "code",
   "execution_count": 14,
   "metadata": {},
   "outputs": [
    {
     "data": {
      "text/plain": [
       "['3399    Hustler, The (1961)',\n",
       " '2882    Fistful of Dollars, A (1964)',\n",
       " '1196    Alien (1979)',\n",
       " '1023    Die Hard (1988)',\n",
       " '257    Star Wars: Episode IV - A New Hope (1977)',\n",
       " '1959    Saving Private Ryan (1998)',\n",
       " '476    Jurassic Park (1993)',\n",
       " '1180    Raiders of the Lost Ark (1981)',\n",
       " '1885    Rocky (1976)',\n",
       " '1081    E.T. the Extra-Terrestrial (1982)',\n",
       " '3349    Thelma & Louise (1991)',\n",
       " '3633    Mad Max (1979)',\n",
       " '2297    King Kong (1933)',\n",
       " '1366    Jaws (1975)',\n",
       " '1183    Good, The Bad and The Ugly, The (1966)',\n",
       " '2623    Run Lola Run (Lola rennt) (1998)',\n",
       " '2878    Goldfinger (1964)',\n",
       " '1220    Terminator, The (1984)']"
      ]
     },
     "execution_count": 14,
     "metadata": {},
     "output_type": "execute_result"
    }
   ],
   "source": [
    "get_user_history(4, implicit_ratings)"
   ]
  },
  {
   "cell_type": "markdown",
   "metadata": {},
   "source": [
    "Получилось! \n",
    "\n",
    "Мы действительно порекомендовали пользователю фантастику и боевики, более того встречаются продолжения тех фильмов, которые он высоко оценил"
   ]
  },
  {
   "cell_type": "code",
   "execution_count": 15,
   "metadata": {},
   "outputs": [],
   "source": [
    "get_recommendations = lambda user_id, model : [movie_info[movie_info[\"movie_id\"] == x[0]][\"name\"].to_string() \n",
    "                                               for x in model.recommend(user_id, user_item_csr)]"
   ]
  },
  {
   "cell_type": "code",
   "execution_count": 16,
   "metadata": {},
   "outputs": [
    {
     "data": {
      "text/plain": [
       "['585    Terminator 2: Judgment Day (1991)',\n",
       " '2502    Matrix, The (1999)',\n",
       " '1271    Indiana Jones and the Last Crusade (1989)',\n",
       " '1284    Butch Cassidy and the Sundance Kid (1969)',\n",
       " '1178    Star Wars: Episode V - The Empire Strikes Back...',\n",
       " '1182    Aliens (1986)',\n",
       " '3402    Close Encounters of the Third Kind (1977)',\n",
       " '847    Godfather, The (1972)',\n",
       " '2460    Planet of the Apes (1968)',\n",
       " '1267    Ben-Hur (1959)']"
      ]
     },
     "execution_count": 16,
     "metadata": {},
     "output_type": "execute_result"
    }
   ],
   "source": [
    "get_recommendations(4, model)"
   ]
  },
  {
   "cell_type": "markdown",
   "metadata": {},
   "source": [
    "Теперь ваша очередь реализовать самые популярные алгоритмы матричных разложений\n",
    "\n",
    "Что будет оцениваться:\n",
    "1. Корректность алгоритма\n",
    "2. Качество получившихся симиларов\n",
    "3. Качество итоговых рекомендаций для юзера"
   ]
  },
  {
   "cell_type": "markdown",
   "metadata": {
    "tags": []
   },
   "source": [
    "### Задание 1. Не использую готовые решения, реализовать SVD разложение используя SGD на explicit данных"
   ]
  },
  {
   "cell_type": "code",
   "execution_count": 62,
   "metadata": {},
   "outputs": [
    {
     "data": {
      "text/plain": [
       "(3706,)"
      ]
     },
     "execution_count": 62,
     "metadata": {},
     "output_type": "execute_result"
    }
   ],
   "source": [
    "np.unique(ratings.movie_id.values).shape"
   ]
  },
  {
   "cell_type": "code",
   "execution_count": 63,
   "metadata": {},
   "outputs": [
    {
     "data": {
      "text/plain": [
       "3952"
      ]
     },
     "execution_count": 63,
     "metadata": {},
     "output_type": "execute_result"
    }
   ],
   "source": [
    "np.max(ratings.movie_id.values)"
   ]
  },
  {
   "cell_type": "code",
   "execution_count": 224,
   "metadata": {},
   "outputs": [],
   "source": [
    "class SVD_SGD:\n",
    "    def __init__(self, factors=64, iterations=10, regularization=0.1, learning_rate=0.1):\n",
    "        self.factors = factors\n",
    "        self.iterations = int(iterations)\n",
    "        self.regularization = regularization\n",
    "        self.lr = learning_rate\n",
    "        \n",
    "    def fit(self, ratings):\n",
    "        ratings = ratings.values\n",
    "        users_number, items_number = np.max(ratings, axis=0)[[0, 1]] + 1\n",
    "        self.user_embeddings = np.random.uniform(0, 1 / np.sqrt(self.factors), (users_number, self.factors))\n",
    "        self.item_embeddings = np.random.uniform(0, 1 / np.sqrt(self.factors), (items_number, self.factors))\n",
    "        self.user_biases = 3 * np.ones(users_number)\n",
    "        self.item_biases = 3 * np.ones(items_number)\n",
    "        self.is_real_item = np.zeros(items_number, dtype=bool)\n",
    "        for rating in ratings:\n",
    "            self.is_real_item[rating[1]] = True\n",
    "        for iteration in range(self.iterations):\n",
    "            print('Epoch', iteration, end='')\n",
    "            if iteration % 1 == 0:\n",
    "                product = self.user_embeddings @ self.item_embeddings.T\n",
    "                test_ratings_ind = np.random.choice(len(ratings), size=10000)\n",
    "                mse = 0\n",
    "                for ind in test_ratings_ind:\n",
    "                    rating = ratings[ind]\n",
    "                    mse += (product[rating[0]][rating[1]] + \n",
    "                            self.user_biases[rating[0]] + \n",
    "                            self.item_biases[rating[1]] - rating[2]) ** 2\n",
    "                print(\", MSE:\", np.sqrt(mse / len(test_ratings_ind)))\n",
    "            inds = np.random.choice(len(ratings), len(ratings), replace=False)\n",
    "            for ind in inds:\n",
    "                rating = ratings[ind]\n",
    "                u = self.user_embeddings[rating[0]]\n",
    "                i = self.item_embeddings[rating[1]]\n",
    "                error = u @ i + self.user_biases[rating[0]] + self.item_biases[rating[1]] - rating[2]\n",
    "                du = self.lr * (error * i + self.regularization * u)\n",
    "                di = self.lr * (error * u + self.regularization * i)\n",
    "                self.user_embeddings[rating[0]] -= du\n",
    "                self.item_embeddings[rating[1]] -= di\n",
    "                self.user_biases[rating[0]] -= self.lr * (error + self.regularization * self.user_biases[rating[0]])\n",
    "                self.item_biases[rating[1]] -= self.lr * (error + self.regularization * self.item_biases[rating[1]])\n",
    "        print('Done!')\n",
    "            \n",
    "    def cosine(self, emb1, emb2):\n",
    "        return emb1 @ emb2 / (np.linalg.norm(emb1) * np.linalg.norm(emb2) + 1e-9)\n",
    "            \n",
    "    def get_similar_items(self, item_id, number=10, info=movie_info):\n",
    "        embedding = self.item_embeddings[item_id]\n",
    "        similarities = np.zeros(self.item_embeddings.shape[0])\n",
    "        for i in range(self.item_embeddings.shape[0]):\n",
    "            similarities[i] = self.cosine(self.item_embeddings[i], embedding)\n",
    "        ind_sorted = np.argsort(similarities)\n",
    "        i = -1\n",
    "        top_ind = []\n",
    "        while len(top_ind) < number:\n",
    "            item = ind_sorted[i]\n",
    "            if self.is_real_item[item] and item != item_id:\n",
    "                top_ind.append(item)\n",
    "            i -= 1\n",
    "        return np.array([info[info.movie_id == i].values[0][1:] for i in top_ind])\n",
    "        \n",
    "    def recommend(self, user_id, number=10, info=movie_info, ratings=ratings):\n",
    "        user_history = ratings[ratings.user_id == user_id].movie_id.values\n",
    "        prediction = self.item_embeddings @ self.user_embeddings[user_id]# + self.item_biases\n",
    "        ind_sorted = np.argsort(prediction)\n",
    "        i = -1\n",
    "        top_ind = []\n",
    "        while len(top_ind) < number:\n",
    "            item = ind_sorted[i]\n",
    "            if self.is_real_item[item] and not (item in user_history):\n",
    "                top_ind.append(item)\n",
    "            i -= 1\n",
    "        return np.array([info[info.movie_id == i].values[0][1:] for i in top_ind])"
   ]
  },
  {
   "cell_type": "code",
   "execution_count": 225,
   "metadata": {},
   "outputs": [
    {
     "name": "stdout",
     "output_type": "stream",
     "text": [
      "Epoch 0, MSE: 2.8947045132075364\n",
      "Epoch 1, MSE: 0.9533944992294792\n",
      "Epoch 2, MSE: 0.9084057932893849\n",
      "Epoch 3, MSE: 0.9057111923433895\n",
      "Epoch 4, MSE: 0.8657980105458488\n",
      "Epoch 5, MSE: 0.8582435947130606\n",
      "Epoch 6, MSE: 0.8337913004271197\n",
      "Epoch 7, MSE: 0.8136934335575813\n",
      "Epoch 8, MSE: 0.7795143230728384\n",
      "Epoch 9, MSE: 0.7641377093653136\n",
      "Epoch 10, MSE: 0.7533023899500666\n",
      "Epoch 11, MSE: 0.7331745973602105\n",
      "Epoch 12, MSE: 0.7256446597596504\n",
      "Epoch 13, MSE: 0.7111007783523174\n",
      "Epoch 14, MSE: 0.7125900773905454\n",
      "Epoch 15, MSE: 0.7037930797662305\n",
      "Epoch 16, MSE: 0.6921551627796912\n",
      "Epoch 17, MSE: 0.6857785085602377\n",
      "Epoch 18, MSE: 0.6876282531705731\n",
      "Epoch 19, MSE: 0.6791264814355935\n",
      "Epoch 20, MSE: 0.6724293340995322\n",
      "Epoch 21, MSE: 0.6794352458994387\n",
      "Epoch 22, MSE: 0.6751985270741727\n",
      "Epoch 23, MSE: 0.6657604617423544\n",
      "Epoch 24, MSE: 0.6541920637070648\n",
      "Epoch 25, MSE: 0.6566960200357015\n",
      "Epoch 26, MSE: 0.6587768699902218\n",
      "Epoch 27, MSE: 0.6519295330922318\n",
      "Epoch 28, MSE: 0.6499480374996967\n",
      "Epoch 29, MSE: 0.6504663463786807\n",
      "Done!\n"
     ]
    }
   ],
   "source": [
    "svg = SVD_SGD(factors=32, iterations=30, regularization=0.001, learning_rate=0.01)\n",
    "svg.fit(ratings)"
   ]
  },
  {
   "cell_type": "code",
   "execution_count": 226,
   "metadata": {},
   "outputs": [
    {
     "name": "stdout",
     "output_type": "stream",
     "text": [
      "Movie: \n",
      "[[1 'Toy Story (1995)' \"Animation|Children's|Comedy\"]]\n",
      "Similar: \n",
      "[['Toy Story 2 (1999)' \"Animation|Children's|Comedy\"]\n",
      " [\"Bug's Life, A (1998)\" \"Animation|Children's|Comedy\"]\n",
      " ['Aladdin (1992)' \"Animation|Children's|Comedy|Musical\"]\n",
      " ['Little Mermaid, The (1989)'\n",
      "  \"Animation|Children's|Comedy|Musical|Romance\"]\n",
      " ['Beauty and the Beast (1991)' \"Animation|Children's|Musical\"]\n",
      " ['Parent Trap, The (1998)' \"Children's|Drama\"]\n",
      " ['Sense and Sensibility (1995)' 'Drama|Romance']\n",
      " ['Babe (1995)' \"Children's|Comedy|Drama\"]\n",
      " ['Home Alone (1990)' \"Children's|Comedy\"]\n",
      " ['Lion King, The (1994)' \"Animation|Children's|Musical\"]]\n"
     ]
    }
   ],
   "source": [
    "movie_id = 1\n",
    "print(\"Movie: \")\n",
    "print(movie_info[movie_info.movie_id == movie_id].values)\n",
    "print(\"Similar: \")\n",
    "print(svg.get_similar_items(movie_id, 10))"
   ]
  },
  {
   "cell_type": "code",
   "execution_count": 233,
   "metadata": {},
   "outputs": [
    {
     "name": "stdout",
     "output_type": "stream",
     "text": [
      "[['Black Mask (Hak hap) (1996)' 'Action']\n",
      " ['Local Hero (1983)' 'Comedy']\n",
      " ['Welcome To Sarajevo (1997)' 'Drama|War']\n",
      " ['Hamlet (2000)' 'Drama']\n",
      " ['Air Bud (1997)' \"Children's|Comedy\"]\n",
      " ['Bread and Chocolate (Pane e cioccolata) (1973)' 'Drama']\n",
      " ['Prom Night III: The Last Kiss (1989)' 'Horror']\n",
      " ['Goodbye, Lover (1999)' 'Comedy|Crime|Thriller']\n",
      " ['Brenda Starr (1989)' 'Adventure']\n",
      " ['Bushwhacked (1995)' 'Comedy']]\n"
     ]
    }
   ],
   "source": [
    "print(svg.recommend(4, 10))"
   ]
  },
  {
   "cell_type": "markdown",
   "metadata": {},
   "source": [
    "### Задание 2. Не использую готовые решения, реализовать матричное разложение используя ALS на implicit данных"
   ]
  },
  {
   "cell_type": "code",
   "execution_count": 270,
   "metadata": {},
   "outputs": [],
   "source": [
    "class ALS:\n",
    "    def __init__(self, factors=64, iterations=10, regularization=0.1):\n",
    "        self.factors = factors\n",
    "        self.iterations = int(iterations)\n",
    "        self.regularization = regularization\n",
    "        \n",
    "    def fit(self, ratings_csr):\n",
    "        users_number, items_number = ratings_csr.shape\n",
    "        self.nonzero = ratings_csr.nonzero()\n",
    "        self.user_embeddings = np.random.uniform(0, 1 / np.sqrt(self.factors), (users_number, self.factors))\n",
    "        self.item_embeddings = np.random.uniform(0, 1 / np.sqrt(self.factors), (items_number, self.factors))\n",
    "        for iteration in range(self.iterations):\n",
    "            print('Epoch', iteration, end='')\n",
    "            if iteration % 1 == 0:\n",
    "                product = self.user_embeddings @ self.item_embeddings.T\n",
    "                mse = np.power(product[self.nonzero] - ratings_csr[self.nonzero], 2).mean()\n",
    "                print(\", MSE:\", np.sqrt(mse))\n",
    "            \n",
    "            self.user_embeddings = (np.linalg.inv(self.item_embeddings.T @ self.item_embeddings +\n",
    "                                                  self.regularization * np.eye(self.factors)) \n",
    "                                    @ self.item_embeddings.T @ ratings_csr.T).T\n",
    "            \n",
    "            self.item_embeddings = (np.linalg.inv(self.user_embeddings.T @ self.user_embeddings +\n",
    "                                                  self.regularization * np.eye(self.factors)) \n",
    "                                    @ self.user_embeddings.T @ ratings_csr).T\n",
    "            \n",
    "        print('Done!')\n",
    "            \n",
    "    def cosine(self, emb1, emb2):\n",
    "        return emb1 @ emb2 / (np.linalg.norm(emb1) * np.linalg.norm(emb2) + 1e-9)\n",
    "            \n",
    "    def get_similar_items(self, item_id, number=10, info=movie_info):\n",
    "        embedding = self.item_embeddings[item_id]\n",
    "        similarities = np.zeros(self.item_embeddings.shape[0])\n",
    "        for i in range(self.item_embeddings.shape[0]):\n",
    "            similarities[i] = self.cosine(self.item_embeddings[i], embedding)\n",
    "        ind_sorted = np.argsort(similarities)\n",
    "        i = -1\n",
    "        top_ind = []\n",
    "        while len(top_ind) < number:\n",
    "            item = ind_sorted[i]\n",
    "            if item in self.nonzero[1] and item != item_id:\n",
    "                top_ind.append(item)\n",
    "            i -= 1\n",
    "        return np.array([info[info.movie_id == i].values[0][1:] for i in top_ind])\n",
    "        \n",
    "    def recommend(self, user_id, number=10, info=movie_info, ratings=ratings):\n",
    "        user_history = ratings[ratings.user_id == user_id].movie_id.values\n",
    "        prediction = self.item_embeddings @ self.user_embeddings[user_id]\n",
    "        ind_sorted = np.argsort(prediction)\n",
    "        i = -1\n",
    "        top_ind = []\n",
    "        while len(top_ind) < number:\n",
    "            item = ind_sorted[i]\n",
    "            if item in self.nonzero[1] and not (item in user_history):\n",
    "                top_ind.append(item)\n",
    "            i -= 1\n",
    "        return np.array([info[info.movie_id == i].values[0][1:] for i in top_ind])"
   ]
  },
  {
   "cell_type": "code",
   "execution_count": 277,
   "metadata": {},
   "outputs": [
    {
     "name": "stdout",
     "output_type": "stream",
     "text": [
      "Epoch 0, MSE: 0.7508880887720185\n",
      "Epoch 1, MSE: 0.774462399988525\n",
      "Epoch 2, MSE: 0.6962928976566737\n",
      "Epoch 3, MSE: 0.6862130794484421\n",
      "Epoch 4, MSE: 0.6831423666303489\n",
      "Epoch 5, MSE: 0.6817812421410685\n",
      "Epoch 6, MSE: 0.6810587121606467\n",
      "Epoch 7, MSE: 0.6806319971732542\n",
      "Epoch 8, MSE: 0.6803654791018886\n",
      "Epoch 9, MSE: 0.680192658435772\n",
      "Epoch 10, MSE: 0.6800756164871765\n",
      "Epoch 11, MSE: 0.6799921499829804\n",
      "Epoch 12, MSE: 0.6799294046682709\n",
      "Epoch 13, MSE: 0.679879991118707\n",
      "Epoch 14, MSE: 0.679839667501222\n",
      "Epoch 15, MSE: 0.6798059853963345\n",
      "Epoch 16, MSE: 0.6797774937924441\n",
      "Epoch 17, MSE: 0.679753272311457\n",
      "Epoch 18, MSE: 0.6797326674343849\n",
      "Epoch 19, MSE: 0.6797151552599291\n",
      "Done!\n"
     ]
    }
   ],
   "source": [
    "als = ALS(factors=32, iterations=20, regularization=0.1)\n",
    "als.fit(user_item_csr)"
   ]
  },
  {
   "cell_type": "code",
   "execution_count": 280,
   "metadata": {},
   "outputs": [
    {
     "name": "stdout",
     "output_type": "stream",
     "text": [
      "Movie: \n",
      "[[1 'Toy Story (1995)' \"Animation|Children's|Comedy\"]]\n",
      "Similar: \n",
      "[['Toy Story 2 (1999)' \"Animation|Children's|Comedy\"]\n",
      " ['Aladdin (1992)' \"Animation|Children's|Comedy|Musical\"]\n",
      " [\"Bug's Life, A (1998)\" \"Animation|Children's|Comedy\"]\n",
      " ['Babe (1995)' \"Children's|Comedy|Drama\"]\n",
      " ['Mulan (1998)' \"Animation|Children's\"]\n",
      " ['Tarzan (1999)' \"Animation|Children's\"]\n",
      " ['Beauty and the Beast (1991)' \"Animation|Children's|Musical\"]\n",
      " ['Lion King, The (1994)' \"Animation|Children's|Musical\"]\n",
      " ['Pleasantville (1998)' 'Comedy']\n",
      " ['Groundhog Day (1993)' 'Comedy|Romance']]\n"
     ]
    }
   ],
   "source": [
    "movie_id = 1\n",
    "print(\"Movie: \")\n",
    "print(movie_info[movie_info.movie_id == movie_id].values)\n",
    "print(\"Similar: \")\n",
    "print(als.get_similar_items(movie_id, 10))"
   ]
  },
  {
   "cell_type": "code",
   "execution_count": 279,
   "metadata": {},
   "outputs": [
    {
     "name": "stdout",
     "output_type": "stream",
     "text": [
      "[['Indiana Jones and the Last Crusade (1989)' 'Action|Adventure']\n",
      " ['Terminator 2: Judgment Day (1991)' 'Action|Sci-Fi|Thriller']\n",
      " ['Aliens (1986)' 'Action|Sci-Fi|Thriller|War']\n",
      " ['Godfather, The (1972)' 'Action|Crime|Drama']\n",
      " ['Matrix, The (1999)' 'Action|Sci-Fi|Thriller']\n",
      " ['Butch Cassidy and the Sundance Kid (1969)' 'Action|Comedy|Western']\n",
      " ['Fugitive, The (1993)' 'Action|Thriller']\n",
      " ['Godfather: Part II, The (1974)' 'Action|Crime|Drama']\n",
      " ['Back to the Future (1985)' 'Comedy|Sci-Fi']\n",
      " ['Lethal Weapon (1987)' 'Action|Comedy|Crime|Drama']]\n"
     ]
    }
   ],
   "source": [
    "print(als.recommend(4, 10))"
   ]
  },
  {
   "cell_type": "markdown",
   "metadata": {},
   "source": [
    "### Задание 3. Не использую готовые решения, реализовать матричное разложение BPR на implicit данных"
   ]
  },
  {
   "cell_type": "code",
   "execution_count": 95,
   "metadata": {},
   "outputs": [],
   "source": [
    "class BPR:\n",
    "    def __init__(self, factors=64, iterations=10, regularization=0.01, learning_rate=0.01):\n",
    "        self.factors = factors\n",
    "        self.iterations = int(iterations)\n",
    "        self.regularization = regularization\n",
    "        self.lr = learning_rate\n",
    "        \n",
    "    def fit(self, ratings, ratings_csr):\n",
    "        users_number, items_number = ratings_csr.shape\n",
    "        ratings = ratings.values\n",
    "        ratings_number = ratings.shape[0]\n",
    "        self.nonzero = ratings_csr.nonzero()\n",
    "        self.nonzero_unique = tuple(map(np.unique, self.nonzero))\n",
    "        self.user_embeddings = np.random.uniform(0, 1 / np.sqrt(self.factors), (users_number, self.factors))\n",
    "        self.item_embeddings = np.random.uniform(0, 1 / np.sqrt(self.factors), (items_number, self.factors))\n",
    "        for iteration in range(self.iterations):\n",
    "            print('Epoch', iteration, end='')\n",
    "            \n",
    "            order = np.random.permutation(ratings_number)\n",
    "            \n",
    "            for i in order:\n",
    "                user_id = ratings[i][0]\n",
    "                item_p_id = ratings[i][1]\n",
    "                item_n_id = -1\n",
    "                while True:\n",
    "                    item_n_id = np.random.choice(items_number)#self.nonzero_unique[1])\n",
    "                    if ratings_csr[user_id, item_n_id] == 0:\n",
    "                        break\n",
    "                \n",
    "                s = sigmoid(self.user_embeddings[user_id] @ self.item_embeddings[item_n_id] -\n",
    "                            self.user_embeddings[user_id] @ self.item_embeddings[item_p_id])\n",
    "                \n",
    "                self.user_embeddings[user_id] += self.lr * (\n",
    "                    s * (self.item_embeddings[item_p_id] - self.item_embeddings[item_n_id]) +\n",
    "                    self.regularization * self.user_embeddings[user_id]\n",
    "                )\n",
    "                \n",
    "                self.item_embeddings[item_p_id] += self.lr * (\n",
    "                    s * self.user_embeddings[user_id] +\n",
    "                    self.regularization * self.item_embeddings[item_p_id]\n",
    "                )\n",
    "                \n",
    "                self.item_embeddings[item_n_id] += self.lr * (\n",
    "                    - s * self.user_embeddings[user_id] +\n",
    "                    self.regularization * self.item_embeddings[item_n_id]\n",
    "                )                \n",
    "            \n",
    "            if iteration % 1 == 0:\n",
    "                product = self.user_embeddings @ self.item_embeddings.T\n",
    "                auc = 0\n",
    "                for user_id in self.nonzero_unique[0]:\n",
    "                    p_items = ratings_csr[user_id].nonzero()[1]\n",
    "                    p_mask = np.zeros(items_number, dtype=bool)\n",
    "                    p_mask[p_items] = True\n",
    "                    n_items = np.arange(0, items_number)[~p_mask]\n",
    "                            \n",
    "                    p = product[user_id][p_items]\n",
    "                    n = product[user_id][n_items]\n",
    "                    user_auc = (p[:, np.newaxis] > n).sum()\n",
    "                    user_auc /= len(p_items) * len(n_items) * len(self.nonzero_unique[0])\n",
    "                    auc += user_auc\n",
    "                print(\", AUC:\", auc)\n",
    "                \n",
    "        print('Done!')\n",
    "            \n",
    "    def cosine(self, emb1, emb2):\n",
    "        return emb1 @ emb2 / (np.linalg.norm(emb1) * np.linalg.norm(emb2) + 1e-9)\n",
    "            \n",
    "    def get_similar_items(self, item_id, number=10, info=movie_info):\n",
    "        embedding = self.item_embeddings[item_id]\n",
    "        similarities = np.zeros(self.item_embeddings.shape[0])\n",
    "        for i in range(self.item_embeddings.shape[0]):\n",
    "            similarities[i] = self.cosine(self.item_embeddings[i], embedding)\n",
    "        ind_sorted = np.argsort(similarities)\n",
    "        i = -1\n",
    "        top_ind = []\n",
    "        while len(top_ind) < number:\n",
    "            item = ind_sorted[i]\n",
    "            if item in self.nonzero[1] and item != item_id:\n",
    "                top_ind.append(item)\n",
    "            i -= 1\n",
    "        return np.array([info[info.movie_id == i].values[0][1:] for i in top_ind])\n",
    "        \n",
    "    def recommend(self, user_id, number=10, info=movie_info, ratings=ratings):\n",
    "        user_history = ratings[ratings.user_id == user_id].movie_id.values\n",
    "        prediction = self.item_embeddings @ self.user_embeddings[user_id]\n",
    "        ind_sorted = np.argsort(prediction)\n",
    "        i = -1\n",
    "        top_ind = []\n",
    "        while len(top_ind) < number:\n",
    "            item = ind_sorted[i]\n",
    "            if item in self.nonzero[1] and not (item in user_history):\n",
    "                top_ind.append(item)\n",
    "            i -= 1\n",
    "        return np.array([info[info.movie_id == i].values[0][1:] for i in top_ind])"
   ]
  },
  {
   "cell_type": "code",
   "execution_count": 100,
   "metadata": {},
   "outputs": [
    {
     "name": "stdout",
     "output_type": "stream",
     "text": [
      "Epoch 0, AUC: 0.8905142844264243\n",
      "Epoch 1, AUC: 0.9104396055928279\n",
      "Epoch 2, AUC: 0.9305166590667183\n",
      "Epoch 3, AUC: 0.9403015557624292\n",
      "Epoch 4, AUC: 0.9430816563235525\n",
      "Done!\n"
     ]
    }
   ],
   "source": [
    "bpr = BPR(factors=32, iterations=5, regularization=0, learning_rate=0.1)\n",
    "bpr.fit(implicit_ratings, user_item_csr)"
   ]
  },
  {
   "cell_type": "code",
   "execution_count": 101,
   "metadata": {},
   "outputs": [
    {
     "name": "stdout",
     "output_type": "stream",
     "text": [
      "Movie: \n",
      "[[1 'Toy Story (1995)' \"Animation|Children's|Comedy\"]]\n",
      "Similar: \n",
      "[['Nightmare Before Christmas, The (1993)' \"Children's|Comedy|Musical\"]\n",
      " ['Aladdin (1992)' \"Animation|Children's|Comedy|Musical\"]\n",
      " ['Beauty and the Beast (1991)' \"Animation|Children's|Musical\"]\n",
      " ['Toy Story 2 (1999)' \"Animation|Children's|Comedy\"]\n",
      " [\"Bug's Life, A (1998)\" \"Animation|Children's|Comedy\"]\n",
      " ['Bambi (1942)' \"Animation|Children's\"]\n",
      " [\"Midsummer Night's Dream, A (1999)\" 'Comedy|Fantasy']\n",
      " ['Mouse Hunt (1997)' \"Children's|Comedy\"]\n",
      " ['Desperately Seeking Susan (1985)' 'Comedy|Romance']\n",
      " ['Pinocchio (1940)' \"Animation|Children's\"]]\n"
     ]
    }
   ],
   "source": [
    "movie_id = 1\n",
    "print(\"Movie: \")\n",
    "print(movie_info[movie_info.movie_id == movie_id].values)\n",
    "print(\"Similar: \")\n",
    "print(bpr.get_similar_items(movie_id, 10))"
   ]
  },
  {
   "cell_type": "code",
   "execution_count": 102,
   "metadata": {},
   "outputs": [
    {
     "name": "stdout",
     "output_type": "stream",
     "text": [
      "[['Matrix, The (1999)' 'Action|Sci-Fi|Thriller']\n",
      " ['Godfather, The (1972)' 'Action|Crime|Drama']\n",
      " ['Braveheart (1995)' 'Action|Drama|War']\n",
      " ['American Beauty (1999)' 'Comedy|Drama']\n",
      " ['Psycho (1960)' 'Horror|Thriller']\n",
      " ['Silence of the Lambs, The (1991)' 'Drama|Thriller']\n",
      " ['Blade Runner (1982)' 'Film-Noir|Sci-Fi']\n",
      " ['Usual Suspects, The (1995)' 'Crime|Thriller']\n",
      " ['Terminator 2: Judgment Day (1991)' 'Action|Sci-Fi|Thriller']\n",
      " ['Godfather: Part II, The (1974)' 'Action|Crime|Drama']]\n"
     ]
    }
   ],
   "source": [
    "print(bpr.recommend(4, 10))"
   ]
  },
  {
   "cell_type": "markdown",
   "metadata": {},
   "source": [
    "### Задание 4. Не использую готовые решения, реализовать матричное разложение WARP на implicit данных"
   ]
  },
  {
   "cell_type": "code",
   "execution_count": null,
   "metadata": {},
   "outputs": [],
   "source": []
  }
 ],
 "metadata": {
  "kernelspec": {
   "display_name": "Python 3 (ipykernel)",
   "language": "python",
   "name": "python3"
  },
  "language_info": {
   "codemirror_mode": {
    "name": "ipython",
    "version": 3
   },
   "file_extension": ".py",
   "mimetype": "text/x-python",
   "name": "python",
   "nbconvert_exporter": "python",
   "pygments_lexer": "ipython3",
   "version": "3.9.7"
  }
 },
 "nbformat": 4,
 "nbformat_minor": 4
}
